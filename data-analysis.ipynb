{
 "cells": [
  {
   "cell_type": "code",
   "execution_count": 1,
   "metadata": {},
   "outputs": [],
   "source": [
    "import numpy as np\n",
    "import pandas as pd\n",
    "import re\n",
    "import matplotlib\n",
    "%matplotlib inline\n",
    "import matplotlib.pyplot as plt\n",
    "from scipy import integrate"
   ]
  },
  {
   "cell_type": "code",
   "execution_count": 2,
   "metadata": {},
   "outputs": [],
   "source": [
    "%load_ext autoreload\n",
    "%autoreload 2"
   ]
  },
  {
   "cell_type": "code",
   "execution_count": 3,
   "metadata": {},
   "outputs": [],
   "source": [
    "def print_cross_traffic_on_off(filename):\n",
    "    with open(filename) as f:\n",
    "        lines = f.readlines()\n",
    "    on_count = 0; off_count = 0\n",
    "    last_match_idx = 0\n",
    "    for i, l in enumerate(lines):\n",
    "        if l == 'background traffic is: off\\n':\n",
    "            off_count += 1\n",
    "            print(lines[i-1], lines[i], end='')\n",
    "            print(\"on count: {}, off count: {}\".format(on_count, off_count))\n",
    "            print(\"\")\n",
    "        if l == 'background traffic is: on\\n':\n",
    "            on_count += 1\n",
    "            print(lines[i-1], lines[i], end='')\n",
    "            print(\"on count: {}, off count: {}\".format(on_count, off_count))\n",
    "            print(\"\")\n",
    "                "
   ]
  },
  {
   "cell_type": "code",
   "execution_count": 4,
   "metadata": {},
   "outputs": [
    {
     "name": "stdout",
     "output_type": "stream",
     "text": [
      "Sending to 100.64.0.1:9090\n",
      " background traffic is: on\n",
      "on count: 1, off count: 0\n",
      "\n",
      "timestamp: 9884, average throughput: 113.528 Mpbs\n",
      " background traffic is: off\n",
      "on count: 1, off count: 1\n",
      "\n",
      "timestamp: 19869, average throughput: 93.6043 Mpbs\n",
      " background traffic is: on\n",
      "on count: 2, off count: 1\n",
      "\n",
      "timestamp: 29927, average throughput: 112.725 Mpbs\n",
      " background traffic is: off\n",
      "on count: 2, off count: 2\n",
      "\n",
      "timestamp: 39898, average throughput: 87.9728 Mpbs\n",
      " background traffic is: on\n",
      "on count: 3, off count: 2\n",
      "\n",
      "timestamp: 49957, average throughput: 89.5786 Mpbs\n",
      " background traffic is: off\n",
      "on count: 3, off count: 3\n",
      "\n",
      "timestamp: 59880, average throughput: 100.815 Mpbs\n",
      " background traffic is: on\n",
      "on count: 4, off count: 3\n",
      "\n",
      "timestamp: 69882, average throughput: 128.064 Mpbs\n",
      " background traffic is: off\n",
      "on count: 4, off count: 4\n",
      "\n",
      "timestamp: 79905, average throughput: 131.245 Mpbs\n",
      " background traffic is: on\n",
      "on count: 5, off count: 4\n",
      "\n",
      "timestamp: 89939, average throughput: 132.786 Mpbs\n",
      " background traffic is: off\n",
      "on count: 5, off count: 5\n",
      "\n",
      "timestamp: 99919, average throughput: 159.53 Mpbs\n",
      " background traffic is: on\n",
      "on count: 6, off count: 5\n",
      "\n",
      "timestamp: 109907, average throughput: 169.085 Mpbs\n",
      " background traffic is: off\n",
      "on count: 6, off count: 6\n",
      "\n",
      "timestamp: 119919, average throughput: 178.738 Mpbs\n",
      " background traffic is: on\n",
      "on count: 7, off count: 6\n",
      "\n",
      "timestamp: 129879, average throughput: 196.474 Mpbs\n",
      " background traffic is: off\n",
      "on count: 7, off count: 7\n",
      "\n",
      "timestamp: 139908, average throughput: 210.455 Mpbs\n",
      " background traffic is: on\n",
      "on count: 8, off count: 7\n",
      "\n",
      "timestamp: 149909, average throughput: 212.677 Mpbs\n",
      " background traffic is: off\n",
      "on count: 8, off count: 8\n",
      "\n",
      "timestamp: 159890, average throughput: 99.6611 Mpbs\n",
      " background traffic is: on\n",
      "on count: 9, off count: 8\n",
      "\n",
      "timestamp: 169856, average throughput: 108.294 Mpbs\n",
      " background traffic is: off\n",
      "on count: 9, off count: 9\n",
      "\n",
      "timestamp: 179914, average throughput: 126.329 Mpbs\n",
      " background traffic is: on\n",
      "on count: 10, off count: 9\n",
      "\n",
      "timestamp: 189930, average throughput: 134.922 Mpbs\n",
      " background traffic is: off\n",
      "on count: 10, off count: 10\n",
      "\n",
      "timestamp: 199887, average throughput: 147.582 Mpbs\n",
      " background traffic is: on\n",
      "on count: 11, off count: 10\n",
      "\n",
      "loss!\n",
      " background traffic is: off\n",
      "on count: 11, off count: 11\n",
      "\n",
      "timestamp: 219924, average throughput: 118.787 Mpbs\n",
      " background traffic is: on\n",
      "on count: 12, off count: 11\n",
      "\n",
      "timestamp: 229929, average throughput: 126.881 Mpbs\n",
      " background traffic is: off\n",
      "on count: 12, off count: 12\n",
      "\n",
      "timestamp: 239904, average throughput: 88.5976 Mpbs\n",
      " background traffic is: on\n",
      "on count: 13, off count: 12\n",
      "\n",
      "timestamp: 249958, average throughput: 110.735 Mpbs\n",
      " background traffic is: off\n",
      "on count: 13, off count: 13\n",
      "\n",
      "timestamp: 259891, average throughput: 109.854 Mpbs\n",
      " background traffic is: on\n",
      "on count: 14, off count: 13\n",
      "\n",
      "timestamp: 269932, average throughput: 141.647 Mpbs\n",
      " background traffic is: off\n",
      "on count: 14, off count: 14\n",
      "\n",
      "timestamp: 279887, average throughput: 140.93 Mpbs\n",
      " background traffic is: on\n",
      "on count: 15, off count: 14\n",
      "\n",
      "timestamp: 289923, average throughput: 156.527 Mpbs\n",
      " background traffic is: off\n",
      "on count: 15, off count: 15\n",
      "\n",
      "timestamp: 299881, average throughput: 169.24 Mpbs\n",
      " background traffic is: on\n",
      "on count: 16, off count: 15\n",
      "\n",
      "timestamp: 309902, average throughput: 196.993 Mpbs\n",
      " background traffic is: off\n",
      "on count: 16, off count: 16\n",
      "\n",
      "timestamp: 319936, average throughput: 197.835 Mpbs\n",
      " background traffic is: on\n",
      "on count: 17, off count: 16\n",
      "\n",
      "timestamp: 329867, average throughput: 130.951 Mpbs\n",
      " background traffic is: off\n",
      "on count: 17, off count: 17\n",
      "\n",
      "timestamp: 339883, average throughput: 139.771 Mpbs\n",
      " background traffic is: on\n",
      "on count: 18, off count: 17\n",
      "\n",
      "timestamp: 349882, average throughput: 166.666 Mpbs\n",
      " background traffic is: off\n",
      "on count: 18, off count: 18\n",
      "\n",
      "timestamp: 359953, average throughput: 173.619 Mpbs\n",
      " background traffic is: on\n",
      "on count: 19, off count: 18\n",
      "\n",
      "timestamp: 369882, average throughput: 186.431 Mpbs\n",
      " background traffic is: off\n",
      "on count: 19, off count: 19\n",
      "\n",
      "timestamp: 379936, average throughput: 192.61 Mpbs\n",
      " background traffic is: on\n",
      "on count: 20, off count: 19\n",
      "\n",
      "timestamp: 389868, average throughput: 138.357 Mpbs\n",
      " background traffic is: off\n",
      "on count: 20, off count: 20\n",
      "\n",
      "timestamp: 399906, average throughput: 127.181 Mpbs\n",
      " background traffic is: on\n",
      "on count: 21, off count: 20\n",
      "\n",
      "timestamp: 409951, average throughput: 144.488 Mpbs\n",
      " background traffic is: off\n",
      "on count: 21, off count: 21\n",
      "\n",
      "timestamp: 419900, average throughput: 154.015 Mpbs\n",
      " background traffic is: on\n",
      "on count: 22, off count: 21\n",
      "\n",
      "timestamp: 429880, average throughput: 172.738 Mpbs\n",
      " background traffic is: off\n",
      "on count: 22, off count: 22\n",
      "\n",
      "timestamp: 439959, average throughput: 188.641 Mpbs\n",
      " background traffic is: on\n",
      "on count: 23, off count: 22\n",
      "\n",
      "timestamp: 449870, average throughput: 204.59 Mpbs\n",
      " background traffic is: off\n",
      "on count: 23, off count: 23\n",
      "\n",
      "timestamp: 459888, average throughput: 215.337 Mpbs\n",
      " background traffic is: on\n",
      "on count: 24, off count: 23\n",
      "\n",
      "timestamp: 469890, average throughput: 212.315 Mpbs\n",
      " background traffic is: off\n",
      "on count: 24, off count: 24\n",
      "\n",
      "timestamp: 479900, average throughput: 229.055 Mpbs\n",
      " background traffic is: on\n",
      "on count: 25, off count: 24\n",
      "\n",
      "timestamp: 489903, average throughput: 156.235 Mpbs\n",
      " background traffic is: off\n",
      "on count: 25, off count: 25\n",
      "\n",
      "timestamp: 499875, average throughput: 170.459 Mpbs\n",
      " background traffic is: on\n",
      "on count: 26, off count: 25\n",
      "\n",
      "timestamp: 509886, average throughput: 111.195 Mpbs\n",
      " background traffic is: off\n",
      "on count: 26, off count: 26\n",
      "\n",
      "timestamp: 519954, average throughput: 127.581 Mpbs\n",
      " background traffic is: on\n",
      "on count: 27, off count: 26\n",
      "\n",
      "timestamp: 529950, average throughput: 148.545 Mpbs\n",
      " background traffic is: off\n",
      "on count: 27, off count: 27\n",
      "\n",
      "timestamp: 539862, average throughput: 153.034 Mpbs\n",
      " background traffic is: on\n",
      "on count: 28, off count: 27\n",
      "\n",
      "timestamp: 549889, average throughput: 193.689 Mpbs\n",
      " background traffic is: off\n",
      "on count: 28, off count: 28\n",
      "\n",
      "timestamp: 559922, average throughput: 168.177 Mpbs\n",
      " background traffic is: on\n",
      "on count: 29, off count: 28\n",
      "\n",
      "timestamp: 569888, average throughput: 186.512 Mpbs\n",
      " background traffic is: off\n",
      "on count: 29, off count: 29\n",
      "\n",
      "timestamp: 579936, average throughput: 206.944 Mpbs\n",
      " background traffic is: on\n",
      "on count: 30, off count: 29\n",
      "\n",
      "timestamp: 589937, average throughput: 137.129 Mpbs\n",
      " background traffic is: off\n",
      "on count: 30, off count: 30\n",
      "\n",
      "timestamp: 599932, average throughput: 147.114 Mpbs\n",
      " background traffic is: on\n",
      "on count: 31, off count: 30\n",
      "\n",
      "timestamp: 609919, average throughput: 91.0244 Mpbs\n",
      " background traffic is: off\n",
      "on count: 31, off count: 31\n",
      "\n",
      "timestamp: 619953, average throughput: 101.231 Mpbs\n",
      " background traffic is: on\n",
      "on count: 32, off count: 31\n",
      "\n",
      "timestamp: 629902, average throughput: 130.703 Mpbs\n",
      " background traffic is: off\n",
      "on count: 32, off count: 32\n",
      "\n",
      "timestamp: 639924, average throughput: 122.041 Mpbs\n",
      " background traffic is: on\n",
      "on count: 33, off count: 32\n",
      "\n",
      "timestamp: 649879, average throughput: 109.092 Mpbs\n",
      " background traffic is: off\n",
      "on count: 33, off count: 33\n",
      "\n",
      "timestamp: 659921, average throughput: 113.59 Mpbs\n",
      " background traffic is: on\n",
      "on count: 34, off count: 33\n",
      "\n",
      "timestamp: 669955, average throughput: 134.831 Mpbs\n",
      " background traffic is: off\n",
      "on count: 34, off count: 34\n",
      "\n",
      "timestamp: 679957, average throughput: 137.984 Mpbs\n",
      " background traffic is: on\n",
      "on count: 35, off count: 34\n",
      "\n",
      "timestamp: 689945, average throughput: 159.537 Mpbs\n",
      " background traffic is: off\n",
      "on count: 35, off count: 35\n",
      "\n",
      "timestamp: 699959, average throughput: 166.327 Mpbs\n",
      " background traffic is: on\n",
      "on count: 36, off count: 35\n",
      "\n",
      "timestamp: 709930, average throughput: 174.551 Mpbs\n",
      " background traffic is: off\n",
      "on count: 36, off count: 36\n",
      "\n",
      "timestamp: 719896, average throughput: 194.523 Mpbs\n",
      " background traffic is: on\n",
      "on count: 37, off count: 36\n",
      "\n",
      "timestamp: 729903, average throughput: 210.091 Mpbs\n",
      " background traffic is: off\n",
      "on count: 37, off count: 37\n",
      "\n",
      "timestamp: 739923, average throughput: 222.132 Mpbs\n",
      " background traffic is: on\n",
      "on count: 38, off count: 37\n",
      "\n",
      "timestamp: 749926, average throughput: 212.737 Mpbs\n",
      " background traffic is: off\n",
      "on count: 38, off count: 38\n",
      "\n",
      "timestamp: 759889, average throughput: 146.756 Mpbs\n",
      " background traffic is: on\n",
      "on count: 39, off count: 38\n",
      "\n",
      "timestamp: 769929, average throughput: 159.043 Mpbs\n",
      " background traffic is: off\n",
      "on count: 39, off count: 39\n",
      "\n",
      "timestamp: 779946, average throughput: 157.93 Mpbs\n",
      " background traffic is: on\n",
      "on count: 40, off count: 39\n",
      "\n",
      "timestamp: 789940, average throughput: 158.645 Mpbs\n",
      " background traffic is: off\n",
      "on count: 40, off count: 40\n",
      "\n",
      "timestamp: 799934, average throughput: 122.71 Mpbs\n",
      " background traffic is: on\n",
      "on count: 41, off count: 40\n",
      "\n",
      "timestamp: 809859, average throughput: 139.227 Mpbs\n",
      " background traffic is: off\n",
      "on count: 41, off count: 41\n",
      "\n",
      "timestamp: 819904, average throughput: 147.483 Mpbs\n",
      " background traffic is: on\n",
      "on count: 42, off count: 41\n",
      "\n",
      "timestamp: 829935, average throughput: 94.8932 Mpbs\n",
      " background traffic is: off\n",
      "on count: 42, off count: 42\n",
      "\n",
      "timestamp: 839879, average throughput: 120.524 Mpbs\n",
      " background traffic is: on\n",
      "on count: 43, off count: 42\n",
      "\n",
      "timestamp: 849925, average throughput: 129.896 Mpbs\n",
      " background traffic is: off\n",
      "on count: 43, off count: 43\n",
      "\n",
      "timestamp: 859905, average throughput: 144.58 Mpbs\n",
      " background traffic is: on\n",
      "on count: 44, off count: 43\n",
      "\n",
      "timestamp: 869868, average throughput: 161.571 Mpbs\n",
      " background traffic is: off\n",
      "on count: 44, off count: 44\n",
      "\n",
      "timestamp: 879919, average throughput: 122.942 Mpbs\n",
      " background traffic is: on\n",
      "on count: 45, off count: 44\n",
      "\n",
      "timestamp: 889915, average throughput: 129.559 Mpbs\n",
      " background traffic is: off\n",
      "on count: 45, off count: 45\n",
      "\n",
      "timestamp: 899953, average throughput: 137.597 Mpbs\n",
      " background traffic is: on\n",
      "on count: 46, off count: 45\n",
      "\n",
      "timestamp: 909938, average throughput: 116.189 Mpbs\n",
      " background traffic is: off\n",
      "on count: 46, off count: 46\n",
      "\n",
      "timestamp: 919904, average throughput: 93.5195 Mpbs\n",
      " background traffic is: on\n",
      "on count: 47, off count: 46\n",
      "\n",
      "timestamp: 929931, average throughput: 106.371 Mpbs\n",
      " background traffic is: off\n",
      "on count: 47, off count: 47\n",
      "\n",
      "timestamp: 939906, average throughput: 102.244 Mpbs\n",
      " background traffic is: on\n",
      "on count: 48, off count: 47\n",
      "\n",
      "timestamp: 949885, average throughput: 118.763 Mpbs\n",
      " background traffic is: off\n",
      "on count: 48, off count: 48\n",
      "\n",
      "timestamp: 959930, average throughput: 133.701 Mpbs\n",
      " background traffic is: on\n",
      "on count: 49, off count: 48\n",
      "\n",
      "timestamp: 969930, average throughput: 149.075 Mpbs\n",
      " background traffic is: off\n",
      "on count: 49, off count: 49\n",
      "\n"
     ]
    }
   ],
   "source": [
    "print_cross_traffic_on_off('./datadumps/ctcp17final.dump')"
   ]
  },
  {
   "cell_type": "code",
   "execution_count": 12,
   "metadata": {},
   "outputs": [],
   "source": [
    "def get_crosstraffic_mbits_sent(n_switches, rate):\n",
    "    return n_switches * rate * 10\n",
    "\n",
    "def get_total_avail_mbits(t_end, t_start, n_switches, bg_rate):\n",
    "    return 240 * (t_end - t_start)  - get_crosstraffic_mbits_sent(n_switches, bg_rate)"
   ]
  },
  {
   "cell_type": "code",
   "execution_count": null,
   "metadata": {},
   "outputs": [],
   "source": []
  },
  {
   "cell_type": "code",
   "execution_count": 13,
   "metadata": {},
   "outputs": [],
   "source": [
    "def extract_time_and_throughput(filename):\n",
    "    time = []; throughput = []\n",
    "    with open(filename) as f:\n",
    "        for line in f.readlines():\n",
    "            m = re.search(r'timestamp: (\\d+), average throughput: (\\d+\\.\\d+) Mpbs', line)\n",
    "            if m is not None:\n",
    "                time.append(int(m.group(1)))\n",
    "                throughput.append(float(m.group(2)))\n",
    "\n",
    "#     return np.asarray(time), np.asarray(throughput)\n",
    "    return np.stack([time, throughput], axis=1)\n",
    "        "
   ]
  },
  {
   "cell_type": "code",
   "execution_count": 14,
   "metadata": {},
   "outputs": [],
   "source": [
    "ctcp17 = extract_time_and_throughput('./datadumps/ctcp17final.dump')\n",
    "ctcp34 = extract_time_and_throughput('./datadumps/ctcp34.dump')\n",
    "ctcp51 = extract_time_and_throughput('./datadumps/ctcp51.dump')\n",
    "ctcp68 = extract_time_and_throughput('./datadumps/ctcp68.dump')"
   ]
  },
  {
   "cell_type": "code",
   "execution_count": 15,
   "metadata": {},
   "outputs": [
    {
     "data": {
      "text/plain": [
       "[<matplotlib.lines.Line2D at 0x10be7eeb8>]"
      ]
     },
     "execution_count": 15,
     "metadata": {},
     "output_type": "execute_result"
    },
    {
     "data": {
      "image/png": "[encoded data removed]",
      "text/plain": [
       "<Figure size 432x288 with 1 Axes>"
      ]
     },
     "metadata": {},
     "output_type": "display_data"
    }
   ],
   "source": [
    "plt.plot(ctcp17[:, 0], ctcp17[:, 1])"
   ]
  },
  {
   "cell_type": "code",
   "execution_count": 106,
   "metadata": {},
   "outputs": [],
   "source": [
    "ms_to_sec = lambda t: t / 1000.\n",
    "\n",
    "def print_throughput_stats(tput_data, n_switches, bg_rate):\n",
    "    t = ms_to_sec(tput_data[:, 0])\n",
    "    th = tput_data[:, 1]\n",
    "    dur = t[-1] - t[0]\n",
    "    mbits_sent = integrate.trapz(th, t)\n",
    "    avail_mbits = get_total_avail_mbits(t[-1], t[0], n_switches, bg_rate)\n",
    "    print(\"Average throughput: {:.2f} Mbps\".format(mbits_sent / dur))\n",
    "    print(\"Average available bandwidth: {:.2f} Mbps\".format(avail_mbits / dur))\n",
    "    print(\"Utilization: {:2.2f}%\".format(100. * mbits_sent / avail_mbits))"
   ]
  },
  {
   "cell_type": "markdown",
   "metadata": {},
   "source": [
    "## CTCP 17"
   ]
  },
  {
   "cell_type": "code",
   "execution_count": 107,
   "metadata": {},
   "outputs": [
    {
     "name": "stdout",
     "output_type": "stream",
     "text": [
      "Sending to 100.64.0.1:9090\n",
      " background traffic is: on\n",
      "on count: 1, off count: 0\n",
      "\n",
      "timestamp: 9884, average throughput: 113.528 Mpbs\n",
      " background traffic is: off\n",
      "on count: 1, off count: 1\n",
      "\n",
      "timestamp: 19869, average throughput: 93.6043 Mpbs\n",
      " background traffic is: on\n",
      "on count: 2, off count: 1\n",
      "\n",
      "timestamp: 29927, average throughput: 112.725 Mpbs\n",
      " background traffic is: off\n",
      "on count: 2, off count: 2\n",
      "\n",
      "timestamp: 39898, average throughput: 87.9728 Mpbs\n",
      " background traffic is: on\n",
      "on count: 3, off count: 2\n",
      "\n",
      "timestamp: 49957, average throughput: 89.5786 Mpbs\n",
      " background traffic is: off\n",
      "on count: 3, off count: 3\n",
      "\n",
      "timestamp: 59880, average throughput: 100.815 Mpbs\n",
      " background traffic is: on\n",
      "on count: 4, off count: 3\n",
      "\n",
      "timestamp: 69882, average throughput: 128.064 Mpbs\n",
      " background traffic is: off\n",
      "on count: 4, off count: 4\n",
      "\n",
      "timestamp: 79905, average throughput: 131.245 Mpbs\n",
      " background traffic is: on\n",
      "on count: 5, off count: 4\n",
      "\n",
      "timestamp: 89939, average throughput: 132.786 Mpbs\n",
      " background traffic is: off\n",
      "on count: 5, off count: 5\n",
      "\n",
      "timestamp: 99919, average throughput: 159.53 Mpbs\n",
      " background traffic is: on\n",
      "on count: 6, off count: 5\n",
      "\n",
      "timestamp: 109907, average throughput: 169.085 Mpbs\n",
      " background traffic is: off\n",
      "on count: 6, off count: 6\n",
      "\n",
      "timestamp: 119919, average throughput: 178.738 Mpbs\n",
      " background traffic is: on\n",
      "on count: 7, off count: 6\n",
      "\n",
      "timestamp: 129879, average throughput: 196.474 Mpbs\n",
      " background traffic is: off\n",
      "on count: 7, off count: 7\n",
      "\n",
      "timestamp: 139908, average throughput: 210.455 Mpbs\n",
      " background traffic is: on\n",
      "on count: 8, off count: 7\n",
      "\n",
      "timestamp: 149909, average throughput: 212.677 Mpbs\n",
      " background traffic is: off\n",
      "on count: 8, off count: 8\n",
      "\n",
      "timestamp: 159890, average throughput: 99.6611 Mpbs\n",
      " background traffic is: on\n",
      "on count: 9, off count: 8\n",
      "\n",
      "timestamp: 169856, average throughput: 108.294 Mpbs\n",
      " background traffic is: off\n",
      "on count: 9, off count: 9\n",
      "\n",
      "timestamp: 179914, average throughput: 126.329 Mpbs\n",
      " background traffic is: on\n",
      "on count: 10, off count: 9\n",
      "\n",
      "timestamp: 189930, average throughput: 134.922 Mpbs\n",
      " background traffic is: off\n",
      "on count: 10, off count: 10\n",
      "\n",
      "timestamp: 199887, average throughput: 147.582 Mpbs\n",
      " background traffic is: on\n",
      "on count: 11, off count: 10\n",
      "\n",
      "loss!\n",
      " background traffic is: off\n",
      "on count: 11, off count: 11\n",
      "\n",
      "timestamp: 219924, average throughput: 118.787 Mpbs\n",
      " background traffic is: on\n",
      "on count: 12, off count: 11\n",
      "\n",
      "timestamp: 229929, average throughput: 126.881 Mpbs\n",
      " background traffic is: off\n",
      "on count: 12, off count: 12\n",
      "\n",
      "timestamp: 239904, average throughput: 88.5976 Mpbs\n",
      " background traffic is: on\n",
      "on count: 13, off count: 12\n",
      "\n",
      "timestamp: 249958, average throughput: 110.735 Mpbs\n",
      " background traffic is: off\n",
      "on count: 13, off count: 13\n",
      "\n",
      "timestamp: 259891, average throughput: 109.854 Mpbs\n",
      " background traffic is: on\n",
      "on count: 14, off count: 13\n",
      "\n",
      "timestamp: 269932, average throughput: 141.647 Mpbs\n",
      " background traffic is: off\n",
      "on count: 14, off count: 14\n",
      "\n",
      "timestamp: 279887, average throughput: 140.93 Mpbs\n",
      " background traffic is: on\n",
      "on count: 15, off count: 14\n",
      "\n",
      "timestamp: 289923, average throughput: 156.527 Mpbs\n",
      " background traffic is: off\n",
      "on count: 15, off count: 15\n",
      "\n",
      "timestamp: 299881, average throughput: 169.24 Mpbs\n",
      " background traffic is: on\n",
      "on count: 16, off count: 15\n",
      "\n",
      "timestamp: 309902, average throughput: 196.993 Mpbs\n",
      " background traffic is: off\n",
      "on count: 16, off count: 16\n",
      "\n",
      "timestamp: 319936, average throughput: 197.835 Mpbs\n",
      " background traffic is: on\n",
      "on count: 17, off count: 16\n",
      "\n",
      "timestamp: 329867, average throughput: 130.951 Mpbs\n",
      " background traffic is: off\n",
      "on count: 17, off count: 17\n",
      "\n",
      "timestamp: 339883, average throughput: 139.771 Mpbs\n",
      " background traffic is: on\n",
      "on count: 18, off count: 17\n",
      "\n",
      "timestamp: 349882, average throughput: 166.666 Mpbs\n",
      " background traffic is: off\n",
      "on count: 18, off count: 18\n",
      "\n",
      "timestamp: 359953, average throughput: 173.619 Mpbs\n",
      " background traffic is: on\n",
      "on count: 19, off count: 18\n",
      "\n",
      "timestamp: 369882, average throughput: 186.431 Mpbs\n",
      " background traffic is: off\n",
      "on count: 19, off count: 19\n",
      "\n",
      "timestamp: 379936, average throughput: 192.61 Mpbs\n",
      " background traffic is: on\n",
      "on count: 20, off count: 19\n",
      "\n",
      "timestamp: 389868, average throughput: 138.357 Mpbs\n",
      " background traffic is: off\n",
      "on count: 20, off count: 20\n",
      "\n",
      "timestamp: 399906, average throughput: 127.181 Mpbs\n",
      " background traffic is: on\n",
      "on count: 21, off count: 20\n",
      "\n",
      "timestamp: 409951, average throughput: 144.488 Mpbs\n",
      " background traffic is: off\n",
      "on count: 21, off count: 21\n",
      "\n",
      "timestamp: 419900, average throughput: 154.015 Mpbs\n",
      " background traffic is: on\n",
      "on count: 22, off count: 21\n",
      "\n",
      "timestamp: 429880, average throughput: 172.738 Mpbs\n",
      " background traffic is: off\n",
      "on count: 22, off count: 22\n",
      "\n",
      "timestamp: 439959, average throughput: 188.641 Mpbs\n",
      " background traffic is: on\n",
      "on count: 23, off count: 22\n",
      "\n",
      "timestamp: 449870, average throughput: 204.59 Mpbs\n",
      " background traffic is: off\n",
      "on count: 23, off count: 23\n",
      "\n",
      "timestamp: 459888, average throughput: 215.337 Mpbs\n",
      " background traffic is: on\n",
      "on count: 24, off count: 23\n",
      "\n",
      "timestamp: 469890, average throughput: 212.315 Mpbs\n",
      " background traffic is: off\n",
      "on count: 24, off count: 24\n",
      "\n",
      "timestamp: 479900, average throughput: 229.055 Mpbs\n",
      " background traffic is: on\n",
      "on count: 25, off count: 24\n",
      "\n",
      "timestamp: 489903, average throughput: 156.235 Mpbs\n",
      " background traffic is: off\n",
      "on count: 25, off count: 25\n",
      "\n",
      "timestamp: 499875, average throughput: 170.459 Mpbs\n",
      " background traffic is: on\n",
      "on count: 26, off count: 25\n",
      "\n",
      "timestamp: 509886, average throughput: 111.195 Mpbs\n",
      " background traffic is: off\n",
      "on count: 26, off count: 26\n",
      "\n",
      "timestamp: 519954, average throughput: 127.581 Mpbs\n",
      " background traffic is: on\n",
      "on count: 27, off count: 26\n",
      "\n",
      "timestamp: 529950, average throughput: 148.545 Mpbs\n",
      " background traffic is: off\n",
      "on count: 27, off count: 27\n",
      "\n",
      "timestamp: 539862, average throughput: 153.034 Mpbs\n",
      " background traffic is: on\n",
      "on count: 28, off count: 27\n",
      "\n",
      "timestamp: 549889, average throughput: 193.689 Mpbs\n",
      " background traffic is: off\n",
      "on count: 28, off count: 28\n",
      "\n",
      "timestamp: 559922, average throughput: 168.177 Mpbs\n",
      " background traffic is: on\n",
      "on count: 29, off count: 28\n",
      "\n",
      "timestamp: 569888, average throughput: 186.512 Mpbs\n",
      " background traffic is: off\n",
      "on count: 29, off count: 29\n",
      "\n",
      "timestamp: 579936, average throughput: 206.944 Mpbs\n",
      " background traffic is: on\n",
      "on count: 30, off count: 29\n",
      "\n",
      "timestamp: 589937, average throughput: 137.129 Mpbs\n",
      " background traffic is: off\n",
      "on count: 30, off count: 30\n",
      "\n",
      "timestamp: 599932, average throughput: 147.114 Mpbs\n",
      " background traffic is: on\n",
      "on count: 31, off count: 30\n",
      "\n",
      "timestamp: 609919, average throughput: 91.0244 Mpbs\n",
      " background traffic is: off\n",
      "on count: 31, off count: 31\n",
      "\n",
      "timestamp: 619953, average throughput: 101.231 Mpbs\n",
      " background traffic is: on\n",
      "on count: 32, off count: 31\n",
      "\n",
      "timestamp: 629902, average throughput: 130.703 Mpbs\n",
      " background traffic is: off\n",
      "on count: 32, off count: 32\n",
      "\n",
      "timestamp: 639924, average throughput: 122.041 Mpbs\n",
      " background traffic is: on\n",
      "on count: 33, off count: 32\n",
      "\n",
      "timestamp: 649879, average throughput: 109.092 Mpbs\n",
      " background traffic is: off\n",
      "on count: 33, off count: 33\n",
      "\n",
      "timestamp: 659921, average throughput: 113.59 Mpbs\n",
      " background traffic is: on\n",
      "on count: 34, off count: 33\n",
      "\n",
      "timestamp: 669955, average throughput: 134.831 Mpbs\n",
      " background traffic is: off\n",
      "on count: 34, off count: 34\n",
      "\n",
      "timestamp: 679957, average throughput: 137.984 Mpbs\n",
      " background traffic is: on\n",
      "on count: 35, off count: 34\n",
      "\n",
      "timestamp: 689945, average throughput: 159.537 Mpbs\n",
      " background traffic is: off\n",
      "on count: 35, off count: 35\n",
      "\n",
      "timestamp: 699959, average throughput: 166.327 Mpbs\n",
      " background traffic is: on\n",
      "on count: 36, off count: 35\n",
      "\n",
      "timestamp: 709930, average throughput: 174.551 Mpbs\n",
      " background traffic is: off\n",
      "on count: 36, off count: 36\n",
      "\n",
      "timestamp: 719896, average throughput: 194.523 Mpbs\n",
      " background traffic is: on\n",
      "on count: 37, off count: 36\n",
      "\n",
      "timestamp: 729903, average throughput: 210.091 Mpbs\n",
      " background traffic is: off\n",
      "on count: 37, off count: 37\n",
      "\n",
      "timestamp: 739923, average throughput: 222.132 Mpbs\n",
      " background traffic is: on\n",
      "on count: 38, off count: 37\n",
      "\n",
      "timestamp: 749926, average throughput: 212.737 Mpbs\n",
      " background traffic is: off\n",
      "on count: 38, off count: 38\n",
      "\n",
      "timestamp: 759889, average throughput: 146.756 Mpbs\n",
      " background traffic is: on\n",
      "on count: 39, off count: 38\n",
      "\n",
      "timestamp: 769929, average throughput: 159.043 Mpbs\n",
      " background traffic is: off\n",
      "on count: 39, off count: 39\n",
      "\n",
      "timestamp: 779946, average throughput: 157.93 Mpbs\n",
      " background traffic is: on\n",
      "on count: 40, off count: 39\n",
      "\n",
      "timestamp: 789940, average throughput: 158.645 Mpbs\n",
      " background traffic is: off\n",
      "on count: 40, off count: 40\n",
      "\n",
      "timestamp: 799934, average throughput: 122.71 Mpbs\n",
      " background traffic is: on\n",
      "on count: 41, off count: 40\n",
      "\n",
      "timestamp: 809859, average throughput: 139.227 Mpbs\n",
      " background traffic is: off\n",
      "on count: 41, off count: 41\n",
      "\n",
      "timestamp: 819904, average throughput: 147.483 Mpbs\n",
      " background traffic is: on\n",
      "on count: 42, off count: 41\n",
      "\n",
      "timestamp: 829935, average throughput: 94.8932 Mpbs\n",
      " background traffic is: off\n",
      "on count: 42, off count: 42\n",
      "\n",
      "timestamp: 839879, average throughput: 120.524 Mpbs\n",
      " background traffic is: on\n",
      "on count: 43, off count: 42\n",
      "\n",
      "timestamp: 849925, average throughput: 129.896 Mpbs\n",
      " background traffic is: off\n",
      "on count: 43, off count: 43\n",
      "\n",
      "timestamp: 859905, average throughput: 144.58 Mpbs\n",
      " background traffic is: on\n",
      "on count: 44, off count: 43\n",
      "\n",
      "timestamp: 869868, average throughput: 161.571 Mpbs\n",
      " background traffic is: off\n",
      "on count: 44, off count: 44\n",
      "\n",
      "timestamp: 879919, average throughput: 122.942 Mpbs\n",
      " background traffic is: on\n",
      "on count: 45, off count: 44\n",
      "\n",
      "timestamp: 889915, average throughput: 129.559 Mpbs\n",
      " background traffic is: off\n",
      "on count: 45, off count: 45\n",
      "\n",
      "timestamp: 899953, average throughput: 137.597 Mpbs\n",
      " background traffic is: on\n",
      "on count: 46, off count: 45\n",
      "\n",
      "timestamp: 909938, average throughput: 116.189 Mpbs\n",
      " background traffic is: off\n",
      "on count: 46, off count: 46\n",
      "\n",
      "timestamp: 919904, average throughput: 93.5195 Mpbs\n",
      " background traffic is: on\n",
      "on count: 47, off count: 46\n",
      "\n",
      "timestamp: 929931, average throughput: 106.371 Mpbs\n",
      " background traffic is: off\n",
      "on count: 47, off count: 47\n",
      "\n",
      "timestamp: 939906, average throughput: 102.244 Mpbs\n",
      " background traffic is: on\n",
      "on count: 48, off count: 47\n",
      "\n",
      "timestamp: 949885, average throughput: 118.763 Mpbs\n",
      " background traffic is: off\n",
      "on count: 48, off count: 48\n",
      "\n",
      "timestamp: 959930, average throughput: 133.701 Mpbs\n",
      " background traffic is: on\n",
      "on count: 49, off count: 48\n",
      "\n",
      "timestamp: 969930, average throughput: 149.075 Mpbs\n",
      " background traffic is: off\n",
      "on count: 49, off count: 49\n",
      "\n"
     ]
    }
   ],
   "source": [
    "print_cross_traffic_on_off('./datadumps/ctcp17final.dump')"
   ]
  },
  {
   "cell_type": "code",
   "execution_count": 108,
   "metadata": {
    "scrolled": true
   },
   "outputs": [
    {
     "name": "stdout",
     "output_type": "stream",
     "text": [
      "Average throughput: 146.89 Mbps\n",
      "Average available bandwidth: 231.49 Mbps\n",
      "Utilization: 63.45%\n"
     ]
    }
   ],
   "source": [
    "ctcp17 = extract_time_and_throughput('./datadumps/ctcp17final.dump')\n",
    "print_throughput_stats(ctcp17, 49, 17)"
   ]
  },
  {
   "cell_type": "code",
   "execution_count": 27,
   "metadata": {
    "scrolled": true
   },
   "outputs": [
    {
     "data": {
      "text/plain": [
       "[<matplotlib.lines.Line2D at 0x10c081978>]"
      ]
     },
     "execution_count": 27,
     "metadata": {},
     "output_type": "execute_result"
    },
    {
     "data": {
      "image/png": "[encoded data removed]",
      "text/plain": [
       "<Figure size 432x288 with 1 Axes>"
      ]
     },
     "metadata": {},
     "output_type": "display_data"
    }
   ],
   "source": [
    "plt.plot(ctcp17[:, 0], ctcp17[:, 1])"
   ]
  },
  {
   "cell_type": "markdown",
   "metadata": {},
   "source": [
    "## CTCP 34"
   ]
  },
  {
   "cell_type": "code",
   "execution_count": 109,
   "metadata": {
    "scrolled": true
   },
   "outputs": [
    {
     "name": "stdout",
     "output_type": "stream",
     "text": [
      "Sending to 100.64.0.1:9090\n",
      " background traffic is: on\n",
      "on count: 1, off count: 0\n",
      "\n",
      "timestamp: 9791, average throughput: 103.197 Mpbs\n",
      " background traffic is: off\n",
      "on count: 1, off count: 1\n",
      "\n",
      "timestamp: 19866, average throughput: 115.968 Mpbs\n",
      " background traffic is: on\n",
      "on count: 2, off count: 1\n",
      "\n",
      "timestamp: 29837, average throughput: 133.549 Mpbs\n",
      " background traffic is: off\n",
      "on count: 2, off count: 2\n",
      "\n",
      "timestamp: 39850, average throughput: 135.448 Mpbs\n",
      " background traffic is: on\n",
      "on count: 3, off count: 2\n",
      "\n",
      "timestamp: 49812, average throughput: 151.788 Mpbs\n",
      " background traffic is: off\n",
      "on count: 3, off count: 3\n",
      "\n",
      "timestamp: 59793, average throughput: 167.871 Mpbs\n",
      " background traffic is: on\n",
      "on count: 4, off count: 3\n",
      "\n",
      "timestamp: 69785, average throughput: 110.961 Mpbs\n",
      " background traffic is: off\n",
      "on count: 4, off count: 4\n",
      "\n",
      "timestamp: 79798, average throughput: 124.452 Mpbs\n",
      " background traffic is: on\n",
      "on count: 5, off count: 4\n",
      "\n",
      "timestamp: 89775, average throughput: 141.767 Mpbs\n",
      " background traffic is: off\n",
      "on count: 5, off count: 5\n",
      "\n",
      "timestamp: 99796, average throughput: 140.102 Mpbs\n",
      " background traffic is: on\n",
      "on count: 6, off count: 5\n",
      "\n",
      "timestamp: 109805, average throughput: 163.227 Mpbs\n",
      " background traffic is: off\n",
      "on count: 6, off count: 6\n",
      "\n",
      "timestamp: 119849, average throughput: 181.22 Mpbs\n",
      " background traffic is: on\n",
      "on count: 7, off count: 6\n",
      "\n",
      "timestamp: 129859, average throughput: 111.567 Mpbs\n",
      " background traffic is: off\n",
      "on count: 7, off count: 7\n",
      "\n",
      "timestamp: 139772, average throughput: 134.005 Mpbs\n",
      " background traffic is: on\n",
      "on count: 8, off count: 7\n",
      "\n",
      "timestamp: 149805, average throughput: 153 Mpbs\n",
      " background traffic is: off\n",
      "on count: 8, off count: 8\n",
      "\n",
      "timestamp: 159812, average throughput: 155.756 Mpbs\n",
      " background traffic is: on\n",
      "on count: 9, off count: 8\n",
      "\n",
      "timestamp: 169869, average throughput: 168.617 Mpbs\n",
      " background traffic is: off\n",
      "on count: 9, off count: 9\n",
      "\n",
      "timestamp: 179856, average throughput: 112.435 Mpbs\n",
      " background traffic is: on\n",
      "on count: 10, off count: 9\n",
      "\n",
      "timestamp: 189770, average throughput: 128.829 Mpbs\n",
      " background traffic is: off\n",
      "on count: 10, off count: 10\n",
      "\n",
      "timestamp: 199836, average throughput: 149.852 Mpbs\n",
      " background traffic is: on\n",
      "on count: 11, off count: 10\n",
      "\n",
      "timestamp: 209816, average throughput: 157.701 Mpbs\n",
      " background traffic is: off\n",
      "on count: 11, off count: 11\n",
      "\n",
      "timestamp: 219800, average throughput: 102.315 Mpbs\n",
      " background traffic is: on\n",
      "on count: 12, off count: 11\n",
      "\n",
      "timestamp: 229807, average throughput: 117.949 Mpbs\n",
      " background traffic is: off\n",
      "on count: 12, off count: 12\n",
      "\n",
      "timestamp: 239787, average throughput: 136.248 Mpbs\n",
      " background traffic is: on\n",
      "on count: 13, off count: 12\n",
      "\n",
      "timestamp: 249808, average throughput: 153.183 Mpbs\n",
      " background traffic is: off\n",
      "on count: 13, off count: 13\n",
      "\n",
      "timestamp: 259799, average throughput: 162.31 Mpbs\n",
      " background traffic is: on\n",
      "on count: 14, off count: 13\n",
      "\n",
      "timestamp: 269841, average throughput: 176.289 Mpbs\n",
      " background traffic is: off\n",
      "on count: 14, off count: 14\n",
      "\n",
      "timestamp: 279802, average throughput: 124.563 Mpbs\n",
      " background traffic is: on\n",
      "on count: 15, off count: 14\n",
      "\n",
      "timestamp: 289830, average throughput: 123.193 Mpbs\n",
      " background traffic is: off\n",
      "on count: 15, off count: 15\n",
      "\n",
      "timestamp: 299843, average throughput: 143.851 Mpbs\n",
      " background traffic is: on\n",
      "on count: 16, off count: 15\n",
      "\n",
      "timestamp: 309866, average throughput: 159.337 Mpbs\n",
      " background traffic is: off\n",
      "on count: 16, off count: 16\n",
      "\n",
      "timestamp: 319771, average throughput: 164.66 Mpbs\n",
      " background traffic is: on\n",
      "on count: 17, off count: 16\n",
      "\n",
      "timestamp: 329759, average throughput: 101.4 Mpbs\n",
      " background traffic is: off\n",
      "on count: 17, off count: 17\n",
      "\n"
     ]
    }
   ],
   "source": [
    "print_cross_traffic_on_off('./datadumps/ctcp34final.dump')"
   ]
  },
  {
   "cell_type": "code",
   "execution_count": 111,
   "metadata": {
    "scrolled": true
   },
   "outputs": [
    {
     "name": "stdout",
     "output_type": "stream",
     "text": [
      "Average throughput: 138.16 Mbps\n",
      "Average available bandwidth: 231.83 Mbps\n",
      "Utilization: 59.59%\n"
     ]
    }
   ],
   "source": [
    "ctcp34 = extract_time_and_throughput('./datadumps/ctcp34final.dump')\n",
    "print_throughput_stats(ctcp34, 8, 34)"
   ]
  },
  {
   "cell_type": "code",
   "execution_count": 112,
   "metadata": {},
   "outputs": [
    {
     "data": {
      "text/plain": [
       "[<matplotlib.lines.Line2D at 0x10e6d32b0>]"
      ]
     },
     "execution_count": 112,
     "metadata": {},
     "output_type": "execute_result"
    },
    {
     "data": {
      "image/png": "[encoded data removed]",
      "text/plain": [
       "<Figure size 432x288 with 1 Axes>"
      ]
     },
     "metadata": {},
     "output_type": "display_data"
    }
   ],
   "source": [
    "plt.plot(ctcp34[:, 0], ctcp34[:, 1])"
   ]
  },
  {
   "cell_type": "markdown",
   "metadata": {},
   "source": [
    "## CTCP 51"
   ]
  },
  {
   "cell_type": "code",
   "execution_count": 113,
   "metadata": {},
   "outputs": [
    {
     "name": "stdout",
     "output_type": "stream",
     "text": [
      "Sending to 100.64.0.1:9090\n",
      " background traffic is: on\n",
      "on count: 1, off count: 0\n",
      "\n",
      "timestamp: 9858, average throughput: 105.282 Mpbs\n",
      " background traffic is: off\n",
      "on count: 1, off count: 1\n",
      "\n",
      "timestamp: 19833, average throughput: 113.626 Mpbs\n",
      " background traffic is: on\n",
      "on count: 2, off count: 1\n",
      "\n",
      "timestamp: 29828, average throughput: 94.252 Mpbs\n",
      " background traffic is: off\n",
      "on count: 2, off count: 2\n",
      "\n",
      "timestamp: 39901, average throughput: 128.148 Mpbs\n",
      " background traffic is: on\n",
      "on count: 3, off count: 2\n",
      "\n",
      "timestamp: 49914, average throughput: 107.018 Mpbs\n",
      " background traffic is: off\n",
      "on count: 3, off count: 3\n",
      "\n",
      "timestamp: 59905, average throughput: 116.476 Mpbs\n",
      " background traffic is: on\n",
      "on count: 4, off count: 3\n",
      "\n",
      "timestamp: 69842, average throughput: 107.622 Mpbs\n",
      " background traffic is: off\n",
      "on count: 4, off count: 4\n",
      "\n",
      "timestamp: 79858, average throughput: 103.71 Mpbs\n",
      " background traffic is: on\n",
      "on count: 5, off count: 4\n",
      "\n",
      "timestamp: 89866, average throughput: 110.206 Mpbs\n",
      " background traffic is: off\n",
      "on count: 5, off count: 5\n",
      "\n",
      "timestamp: 99863, average throughput: 108.065 Mpbs\n",
      " background traffic is: on\n",
      "on count: 6, off count: 5\n",
      "\n",
      "timestamp: 109908, average throughput: 103.712 Mpbs\n",
      " background traffic is: off\n",
      "on count: 6, off count: 6\n",
      "\n",
      "timestamp: 119841, average throughput: 116.535 Mpbs\n",
      " background traffic is: on\n",
      "on count: 7, off count: 6\n",
      "\n",
      "timestamp: 129901, average throughput: 83.2376 Mpbs\n",
      " background traffic is: off\n",
      "on count: 7, off count: 7\n",
      "\n",
      "timestamp: 139913, average throughput: 102.25 Mpbs\n",
      " background traffic is: on\n",
      "on count: 8, off count: 7\n",
      "\n",
      "timestamp: 149913, average throughput: 107.117 Mpbs\n",
      " background traffic is: off\n",
      "on count: 8, off count: 8\n",
      "\n",
      "timestamp: 159824, average throughput: 109.456 Mpbs\n",
      " background traffic is: on\n",
      "on count: 9, off count: 8\n",
      "\n",
      "timestamp: 169900, average throughput: 142.134 Mpbs\n",
      " background traffic is: off\n",
      "on count: 9, off count: 9\n",
      "\n",
      "timestamp: 179825, average throughput: 160.538 Mpbs\n",
      " background traffic is: on\n",
      "on count: 10, off count: 9\n",
      "\n",
      "timestamp: 189841, average throughput: 161.49 Mpbs\n",
      " background traffic is: off\n",
      "on count: 10, off count: 10\n",
      "\n",
      "timestamp: 199867, average throughput: 177.211 Mpbs\n",
      " background traffic is: on\n",
      "on count: 11, off count: 10\n",
      "\n",
      "timestamp: 209883, average throughput: 178.764 Mpbs\n",
      " background traffic is: off\n",
      "on count: 11, off count: 11\n",
      "\n",
      "timestamp: 219841, average throughput: 131.188 Mpbs\n",
      " background traffic is: on\n",
      "on count: 12, off count: 11\n",
      "\n",
      "timestamp: 229860, average throughput: 119.903 Mpbs\n",
      " background traffic is: off\n",
      "on count: 12, off count: 12\n",
      "\n",
      "timestamp: 239837, average throughput: 111.589 Mpbs\n",
      " background traffic is: on\n",
      "on count: 13, off count: 12\n",
      "\n",
      "timestamp: 249852, average throughput: 106.333 Mpbs\n",
      " background traffic is: off\n",
      "on count: 13, off count: 13\n",
      "\n",
      "timestamp: 259892, average throughput: 121.899 Mpbs\n",
      " background traffic is: on\n",
      "on count: 14, off count: 13\n",
      "\n",
      "timestamp: 269840, average throughput: 133.207 Mpbs\n",
      " background traffic is: off\n",
      "on count: 14, off count: 14\n",
      "\n",
      "timestamp: 279830, average throughput: 150.82 Mpbs\n",
      " background traffic is: on\n",
      "on count: 15, off count: 14\n",
      "\n",
      "timestamp: 289839, average throughput: 165.207 Mpbs\n",
      " background traffic is: off\n",
      "on count: 15, off count: 15\n",
      "\n",
      "timestamp: 299885, average throughput: 173.377 Mpbs\n",
      " background traffic is: on\n",
      "on count: 16, off count: 15\n",
      "\n"
     ]
    }
   ],
   "source": [
    "print_cross_traffic_on_off('./datadumps/ctcp51final.dump')"
   ]
  },
  {
   "cell_type": "code",
   "execution_count": 115,
   "metadata": {
    "scrolled": true
   },
   "outputs": [
    {
     "name": "stdout",
     "output_type": "stream",
     "text": [
      "Average throughput: 125.00 Mbps\n",
      "Average available bandwidth: 215.20 Mbps\n",
      "Utilization: 58.09%\n"
     ]
    }
   ],
   "source": [
    "ctcp51 = extract_time_and_throughput('./datadumps/ctcp51final.dump')\n",
    "print_throughput_stats(ctcp51, 15, 51)"
   ]
  },
  {
   "cell_type": "code",
   "execution_count": 116,
   "metadata": {},
   "outputs": [
    {
     "data": {
      "text/plain": [
       "[<matplotlib.lines.Line2D at 0x10e6fee48>]"
      ]
     },
     "execution_count": 116,
     "metadata": {},
     "output_type": "execute_result"
    },
    {
     "data": {
      "image/png": "[encoded data removed]",
      "text/plain": [
       "<Figure size 432x288 with 1 Axes>"
      ]
     },
     "metadata": {},
     "output_type": "display_data"
    }
   ],
   "source": [
    "plt.plot(ctcp51[:, 0], ctcp51[:, 1])"
   ]
  },
  {
   "cell_type": "markdown",
   "metadata": {},
   "source": [
    "## CTCP 68"
   ]
  },
  {
   "cell_type": "code",
   "execution_count": 117,
   "metadata": {},
   "outputs": [
    {
     "name": "stdout",
     "output_type": "stream",
     "text": [
      "Sending to 100.64.0.1:9090\n",
      " background traffic is: on\n",
      "on count: 1, off count: 0\n",
      "\n",
      "timestamp: 9921, average throughput: 102.232 Mpbs\n",
      " background traffic is: off\n",
      "on count: 1, off count: 1\n",
      "\n",
      "timestamp: 19857, average throughput: 110.503 Mpbs\n",
      " background traffic is: on\n",
      "on count: 2, off count: 1\n",
      "\n",
      "timestamp: 29870, average throughput: 124.179 Mpbs\n",
      " background traffic is: off\n",
      "on count: 2, off count: 2\n",
      "\n",
      "timestamp: 39875, average throughput: 146.633 Mpbs\n",
      " background traffic is: on\n",
      "on count: 3, off count: 2\n",
      "\n",
      "timestamp: 49836, average throughput: 145.376 Mpbs\n",
      " background traffic is: off\n",
      "on count: 3, off count: 3\n",
      "\n",
      "timestamp: 59871, average throughput: 176.73 Mpbs\n",
      " background traffic is: on\n",
      "on count: 4, off count: 3\n",
      "\n",
      "timestamp: 69906, average throughput: 165.146 Mpbs\n",
      " background traffic is: off\n",
      "on count: 4, off count: 4\n",
      "\n",
      "timestamp: 79876, average throughput: 194.782 Mpbs\n",
      " background traffic is: on\n",
      "on count: 5, off count: 4\n",
      "\n",
      "timestamp: 89893, average throughput: 119.039 Mpbs\n",
      " background traffic is: off\n",
      "on count: 5, off count: 5\n",
      "\n",
      "timestamp: 99892, average throughput: 120.101 Mpbs\n",
      " background traffic is: on\n",
      "on count: 6, off count: 5\n",
      "\n",
      "timestamp: 109862, average throughput: 140.402 Mpbs\n",
      " background traffic is: off\n",
      "on count: 6, off count: 6\n",
      "\n",
      "timestamp: 119864, average throughput: 164.344 Mpbs\n",
      " background traffic is: on\n",
      "on count: 7, off count: 6\n",
      "\n",
      "timestamp: 129879, average throughput: 165.099 Mpbs\n",
      " background traffic is: off\n",
      "on count: 7, off count: 7\n",
      "\n",
      "timestamp: 139854, average throughput: 114.449 Mpbs\n",
      " background traffic is: on\n",
      "on count: 8, off count: 7\n",
      "\n",
      "timestamp: 149884, average throughput: 125.032 Mpbs\n",
      " background traffic is: off\n",
      "on count: 8, off count: 8\n",
      "\n",
      "timestamp: 159903, average throughput: 142.064 Mpbs\n",
      " background traffic is: on\n",
      "on count: 9, off count: 8\n",
      "\n",
      "timestamp: 169872, average throughput: 145.288 Mpbs\n",
      " background traffic is: off\n",
      "on count: 9, off count: 9\n",
      "\n",
      "timestamp: 179852, average throughput: 178.496 Mpbs\n",
      " background traffic is: on\n",
      "on count: 10, off count: 9\n",
      "\n",
      "timestamp: 189872, average throughput: 104.722 Mpbs\n",
      " background traffic is: off\n",
      "on count: 10, off count: 10\n",
      "\n",
      "timestamp: 199900, average throughput: 134.549 Mpbs\n",
      " background traffic is: on\n",
      "on count: 11, off count: 10\n",
      "\n",
      "timestamp: 209873, average throughput: 141.335 Mpbs\n",
      " background traffic is: off\n",
      "on count: 11, off count: 11\n",
      "\n",
      "timestamp: 219892, average throughput: 159.127 Mpbs\n",
      " background traffic is: on\n",
      "on count: 12, off count: 11\n",
      "\n",
      "timestamp: 229838, average throughput: 124.524 Mpbs\n",
      " background traffic is: off\n",
      "on count: 12, off count: 12\n",
      "\n",
      "timestamp: 239822, average throughput: 112.304 Mpbs\n",
      " background traffic is: on\n",
      "on count: 13, off count: 12\n",
      "\n",
      "timestamp: 249888, average throughput: 89.8448 Mpbs\n",
      " background traffic is: off\n",
      "on count: 13, off count: 13\n",
      "\n",
      "timestamp: 259919, average throughput: 99.3133 Mpbs\n",
      " background traffic is: on\n",
      "on count: 14, off count: 13\n",
      "\n",
      "timestamp: 269839, average throughput: 116.255 Mpbs\n",
      " background traffic is: off\n",
      "on count: 14, off count: 14\n",
      "\n",
      "timestamp: 279899, average throughput: 142.678 Mpbs\n",
      " background traffic is: on\n",
      "on count: 15, off count: 14\n",
      "\n",
      "timestamp: 289915, average throughput: 134.363 Mpbs\n",
      " background traffic is: off\n",
      "on count: 15, off count: 15\n",
      "\n",
      "timestamp: 299897, average throughput: 155.799 Mpbs\n",
      " background traffic is: on\n",
      "on count: 16, off count: 15\n",
      "\n",
      "timestamp: 309913, average throughput: 160.106 Mpbs\n",
      " background traffic is: off\n",
      "on count: 16, off count: 16\n",
      "\n",
      "timestamp: 319910, average throughput: 195.924 Mpbs\n",
      " background traffic is: on\n",
      "on count: 17, off count: 16\n",
      "\n",
      "timestamp: 329915, average throughput: 163.423 Mpbs\n",
      " background traffic is: off\n",
      "on count: 17, off count: 17\n",
      "\n",
      "timestamp: 339915, average throughput: 123.664 Mpbs\n",
      " background traffic is: on\n",
      "on count: 18, off count: 17\n",
      "\n",
      "timestamp: 349890, average throughput: 127.679 Mpbs\n",
      " background traffic is: off\n",
      "on count: 18, off count: 18\n",
      "\n",
      "timestamp: 359857, average throughput: 154.128 Mpbs\n",
      " background traffic is: on\n",
      "on count: 19, off count: 18\n",
      "\n",
      "timestamp: 369893, average throughput: 103.48 Mpbs\n",
      " background traffic is: off\n",
      "on count: 19, off count: 19\n",
      "\n",
      "timestamp: 379904, average throughput: 127.38 Mpbs\n",
      " background traffic is: on\n",
      "on count: 20, off count: 19\n",
      "\n",
      "timestamp: 389883, average throughput: 127.987 Mpbs\n",
      " background traffic is: off\n",
      "on count: 20, off count: 20\n",
      "\n",
      "timestamp: 399926, average throughput: 127.604 Mpbs\n",
      " background traffic is: on\n",
      "on count: 21, off count: 20\n",
      "\n",
      "timestamp: 409893, average throughput: 149.361 Mpbs\n",
      " background traffic is: off\n",
      "on count: 21, off count: 21\n",
      "\n",
      "timestamp: 419874, average throughput: 98.3764 Mpbs\n",
      " background traffic is: on\n",
      "on count: 22, off count: 21\n",
      "\n",
      "timestamp: 429835, average throughput: 78.0897 Mpbs\n",
      " background traffic is: off\n",
      "on count: 22, off count: 22\n",
      "\n",
      "timestamp: 439921, average throughput: 102.382 Mpbs\n",
      " background traffic is: on\n",
      "on count: 23, off count: 22\n",
      "\n",
      "timestamp: 449861, average throughput: 103.791 Mpbs\n",
      " background traffic is: off\n",
      "on count: 23, off count: 23\n",
      "\n",
      "timestamp: 459902, average throughput: 101.913 Mpbs\n",
      " background traffic is: on\n",
      "on count: 24, off count: 23\n",
      "\n",
      "timestamp: 469929, average throughput: 82.8284 Mpbs\n",
      " background traffic is: off\n",
      "on count: 24, off count: 24\n",
      "\n"
     ]
    }
   ],
   "source": [
    "print_cross_traffic_on_off('./datadumps/ctcp68final.dump')"
   ]
  },
  {
   "cell_type": "code",
   "execution_count": 118,
   "metadata": {
    "scrolled": false
   },
   "outputs": [
    {
     "name": "stdout",
     "output_type": "stream",
     "text": [
      "Average throughput: 130.62 Mbps\n",
      "Average available bandwidth: 205.39 Mbps\n",
      "Utilization: 63.60%\n"
     ]
    }
   ],
   "source": [
    "ctcp68 = extract_time_and_throughput('./datadumps/ctcp68final.dump')\n",
    "print_throughput_stats(ctcp68, 24, 68)"
   ]
  },
  {
   "cell_type": "code",
   "execution_count": 42,
   "metadata": {},
   "outputs": [
    {
     "data": {
      "text/plain": [
       "[<matplotlib.lines.Line2D at 0x10c679b70>]"
      ]
     },
     "execution_count": 42,
     "metadata": {},
     "output_type": "execute_result"
    },
    {
     "data": {
      "image/png": "[encoded data removed]",
      "text/plain": [
       "<Figure size 432x288 with 1 Axes>"
      ]
     },
     "metadata": {},
     "output_type": "display_data"
    }
   ],
   "source": [
    "plt.plot(ctcp68[:, 0], ctcp68[:, 1])"
   ]
  },
  {
   "cell_type": "markdown",
   "metadata": {},
   "source": [
    "## TCP 17"
   ]
  },
  {
   "cell_type": "code",
   "execution_count": 119,
   "metadata": {},
   "outputs": [
    {
     "name": "stdout",
     "output_type": "stream",
     "text": [
      "Sending to 100.64.0.1:9090\n",
      " background traffic is: on\n",
      "on count: 1, off count: 0\n",
      "\n",
      "timestamp: 9943, average throughput: 12.3075 Mpbs\n",
      " background traffic is: off\n",
      "on count: 1, off count: 1\n",
      "\n",
      "timestamp: 19933, average throughput: 28.9756 Mpbs\n",
      " background traffic is: on\n",
      "on count: 2, off count: 1\n",
      "\n",
      "timestamp: 29880, average throughput: 42.7592 Mpbs\n",
      " background traffic is: off\n",
      "on count: 2, off count: 2\n",
      "\n",
      "timestamp: 39928, average throughput: 68.6983 Mpbs\n",
      " background traffic is: on\n",
      "on count: 3, off count: 2\n",
      "\n",
      "timestamp: 49931, average throughput: 76.9312 Mpbs\n",
      " background traffic is: off\n",
      "on count: 3, off count: 3\n",
      "\n",
      "timestamp: 59913, average throughput: 100.719 Mpbs\n",
      " background traffic is: on\n",
      "on count: 4, off count: 3\n",
      "\n",
      "timestamp: 69941, average throughput: 114.84 Mpbs\n",
      " background traffic is: off\n",
      "on count: 4, off count: 4\n",
      "\n",
      "timestamp: 79876, average throughput: 131.712 Mpbs\n",
      " background traffic is: on\n",
      "on count: 5, off count: 4\n",
      "\n",
      "timestamp: 89901, average throughput: 148.874 Mpbs\n",
      " background traffic is: off\n",
      "on count: 5, off count: 5\n",
      "\n",
      "timestamp: 99925, average throughput: 166.479 Mpbs\n",
      " background traffic is: on\n",
      "on count: 6, off count: 5\n",
      "\n",
      "timestamp: 109880, average throughput: 92.259 Mpbs\n",
      " background traffic is: off\n",
      "on count: 6, off count: 6\n",
      "\n",
      "timestamp: 119852, average throughput: 114.699 Mpbs\n",
      " background traffic is: on\n",
      "on count: 7, off count: 6\n",
      "\n",
      "timestamp: 129949, average throughput: 136.298 Mpbs\n",
      " background traffic is: off\n",
      "on count: 7, off count: 7\n",
      "\n",
      "timestamp: 139890, average throughput: 140.477 Mpbs\n",
      " background traffic is: on\n",
      "on count: 8, off count: 7\n",
      "\n",
      "timestamp: 149910, average throughput: 163.47 Mpbs\n",
      " background traffic is: off\n",
      "on count: 8, off count: 8\n",
      "\n",
      "timestamp: 159858, average throughput: 174.488 Mpbs\n",
      " background traffic is: on\n",
      "on count: 9, off count: 8\n",
      "\n",
      "timestamp: 169860, average throughput: 196.171 Mpbs\n",
      " background traffic is: off\n",
      "on count: 9, off count: 9\n",
      "\n",
      "timestamp: 179878, average throughput: 210.038 Mpbs\n",
      " background traffic is: on\n",
      "on count: 10, off count: 9\n",
      "\n",
      "timestamp: 189889, average throughput: 118.2 Mpbs\n",
      " background traffic is: off\n",
      "on count: 10, off count: 10\n",
      "\n",
      "timestamp: 199943, average throughput: 134.085 Mpbs\n",
      " background traffic is: on\n",
      "on count: 11, off count: 10\n",
      "\n",
      "timestamp: 209856, average throughput: 154.781 Mpbs\n",
      " background traffic is: off\n",
      "on count: 11, off count: 11\n",
      "\n",
      "timestamp: 219920, average throughput: 85.3 Mpbs\n",
      " background traffic is: on\n",
      "on count: 12, off count: 11\n",
      "\n",
      "timestamp: 229936, average throughput: 99.911 Mpbs\n",
      " background traffic is: off\n",
      "on count: 12, off count: 12\n",
      "\n",
      "timestamp: 239915, average throughput: 115.714 Mpbs\n",
      " background traffic is: on\n",
      "on count: 13, off count: 12\n",
      "\n",
      "timestamp: 249884, average throughput: 134.57 Mpbs\n",
      " background traffic is: off\n",
      "on count: 13, off count: 13\n",
      "\n",
      "timestamp: 259919, average throughput: 157.502 Mpbs\n",
      " background traffic is: on\n",
      "on count: 14, off count: 13\n",
      "\n",
      "timestamp: 269936, average throughput: 171.396 Mpbs\n",
      " background traffic is: off\n",
      "on count: 14, off count: 14\n",
      "\n",
      "timestamp: 279857, average throughput: 186.457 Mpbs\n",
      " background traffic is: on\n",
      "on count: 15, off count: 14\n",
      "\n",
      "timestamp: 289865, average throughput: 204.159 Mpbs\n",
      " background traffic is: off\n",
      "on count: 15, off count: 15\n",
      "\n",
      "timestamp: 299885, average throughput: 213.401 Mpbs\n",
      " background traffic is: on\n",
      "on count: 16, off count: 15\n",
      "\n",
      "timestamp: 309888, average throughput: 212.679 Mpbs\n",
      " background traffic is: off\n",
      "on count: 16, off count: 16\n",
      "\n",
      "timestamp: 319901, average throughput: 227.704 Mpbs\n",
      " background traffic is: on\n",
      "on count: 17, off count: 16\n",
      "\n",
      "timestamp: 329902, average throughput: 212.931 Mpbs\n",
      " background traffic is: off\n",
      "on count: 17, off count: 17\n",
      "\n",
      "timestamp: 339916, average throughput: 230.35 Mpbs\n",
      " background traffic is: on\n",
      "on count: 18, off count: 17\n",
      "\n",
      "timestamp: 349870, average throughput: 161.285 Mpbs\n",
      " background traffic is: off\n",
      "on count: 18, off count: 18\n",
      "\n"
     ]
    }
   ],
   "source": [
    "print_cross_traffic_on_off('./datadumps/tcp17.dump')"
   ]
  },
  {
   "cell_type": "code",
   "execution_count": 120,
   "metadata": {
    "scrolled": false
   },
   "outputs": [
    {
     "name": "stdout",
     "output_type": "stream",
     "text": [
      "Average throughput: 139.33 Mbps\n",
      "Average available bandwidth: 231.41 Mbps\n",
      "Utilization: 60.21%\n"
     ]
    }
   ],
   "source": [
    "tcp17 = extract_time_and_throughput('./datadumps/tcp17.dump')\n",
    "print_throughput_stats(tcp17, 18, 17)"
   ]
  },
  {
   "cell_type": "code",
   "execution_count": 37,
   "metadata": {
    "scrolled": true
   },
   "outputs": [
    {
     "data": {
      "text/plain": [
       "[<matplotlib.lines.Line2D at 0x10c6dc0b8>]"
      ]
     },
     "execution_count": 37,
     "metadata": {},
     "output_type": "execute_result"
    },
    {
     "data": {
      "image/png": "[encoded data removed]",
      "text/plain": [
       "<Figure size 432x288 with 1 Axes>"
      ]
     },
     "metadata": {},
     "output_type": "display_data"
    }
   ],
   "source": [
    "plt.plot(tcp17[:, 0], tcp17[:, 1])"
   ]
  },
  {
   "cell_type": "markdown",
   "metadata": {},
   "source": [
    "## TCP 34"
   ]
  },
  {
   "cell_type": "code",
   "execution_count": 121,
   "metadata": {},
   "outputs": [
    {
     "name": "stdout",
     "output_type": "stream",
     "text": [
      "Sending to 100.64.0.1:9090\n",
      " background traffic is: on\n",
      "on count: 1, off count: 0\n",
      "\n",
      "timestamp: 9873, average throughput: 17.4855 Mpbs\n",
      " background traffic is: off\n",
      "on count: 1, off count: 1\n",
      "\n",
      "timestamp: 19849, average throughput: 27.9461 Mpbs\n",
      " background traffic is: on\n",
      "on count: 2, off count: 1\n",
      "\n",
      "timestamp: 29892, average throughput: 51.285 Mpbs\n",
      " background traffic is: off\n",
      "on count: 2, off count: 2\n",
      "\n",
      "timestamp: 39878, average throughput: 68.3398 Mpbs\n",
      " background traffic is: on\n",
      "on count: 3, off count: 2\n",
      "\n",
      "timestamp: 49889, average throughput: 77.3276 Mpbs\n",
      " background traffic is: off\n",
      "on count: 3, off count: 3\n",
      "\n",
      "timestamp: 59892, average throughput: 97.0555 Mpbs\n",
      " background traffic is: on\n",
      "on count: 4, off count: 3\n",
      "\n",
      "timestamp: 69882, average throughput: 117.045 Mpbs\n",
      " background traffic is: off\n",
      "on count: 4, off count: 4\n",
      "\n",
      "timestamp: 79830, average throughput: 128.494 Mpbs\n",
      " background traffic is: on\n",
      "on count: 5, off count: 4\n",
      "\n",
      "timestamp: 89846, average throughput: 149.666 Mpbs\n",
      " background traffic is: off\n",
      "on count: 5, off count: 5\n",
      "\n",
      "timestamp: 99890, average throughput: 164.806 Mpbs\n",
      " background traffic is: on\n",
      "on count: 6, off count: 5\n",
      "\n",
      "timestamp: 109905, average throughput: 181.489 Mpbs\n",
      " background traffic is: off\n",
      "on count: 6, off count: 6\n",
      "\n",
      "timestamp: 119825, average throughput: 194.578 Mpbs\n",
      " background traffic is: on\n",
      "on count: 7, off count: 6\n",
      "\n",
      "timestamp: 129827, average throughput: 196.606 Mpbs\n",
      " background traffic is: off\n",
      "on count: 7, off count: 7\n",
      "\n",
      "timestamp: 139879, average throughput: 116.539 Mpbs\n",
      " background traffic is: on\n",
      "on count: 8, off count: 7\n",
      "\n",
      "timestamp: 149911, average throughput: 136.428 Mpbs\n",
      " background traffic is: off\n",
      "on count: 8, off count: 8\n",
      "\n",
      "timestamp: 159874, average throughput: 156.157 Mpbs\n",
      " background traffic is: on\n",
      "on count: 9, off count: 8\n",
      "\n",
      "timestamp: 169887, average throughput: 172.669 Mpbs\n",
      " background traffic is: off\n",
      "on count: 9, off count: 9\n",
      "\n",
      "timestamp: 179906, average throughput: 181.742 Mpbs\n",
      " background traffic is: on\n",
      "on count: 10, off count: 9\n",
      "\n",
      "timestamp: 189894, average throughput: 103.445 Mpbs\n",
      " background traffic is: off\n",
      "on count: 10, off count: 10\n",
      "\n",
      "timestamp: 199824, average throughput: 124.418 Mpbs\n",
      " background traffic is: on\n",
      "on count: 11, off count: 10\n",
      "\n",
      "timestamp: 209870, average throughput: 136.752 Mpbs\n",
      " background traffic is: off\n",
      "on count: 11, off count: 11\n",
      "\n",
      "timestamp: 219904, average throughput: 161.902 Mpbs\n",
      " background traffic is: on\n",
      "on count: 12, off count: 11\n",
      "\n",
      "timestamp: 229919, average throughput: 174.343 Mpbs\n",
      " background traffic is: off\n",
      "on count: 12, off count: 12\n",
      "\n",
      "timestamp: 239844, average throughput: 186.738 Mpbs\n",
      " background traffic is: on\n",
      "on count: 13, off count: 12\n",
      "\n",
      "timestamp: 249849, average throughput: 196.107 Mpbs\n",
      " background traffic is: off\n",
      "on count: 13, off count: 13\n",
      "\n",
      "timestamp: 259862, average throughput: 219.493 Mpbs\n",
      " background traffic is: on\n",
      "on count: 14, off count: 13\n",
      "\n",
      "timestamp: 269891, average throughput: 124.2 Mpbs\n",
      " background traffic is: off\n",
      "on count: 14, off count: 14\n",
      "\n",
      "timestamp: 279889, average throughput: 75.781 Mpbs\n",
      " background traffic is: on\n",
      "on count: 15, off count: 14\n",
      "\n",
      "timestamp: 289839, average throughput: 82.9434 Mpbs\n",
      " background traffic is: off\n",
      "on count: 15, off count: 15\n",
      "\n",
      "timestamp: 299922, average throughput: 98.7009 Mpbs\n",
      " background traffic is: on\n",
      "on count: 16, off count: 15\n",
      "\n"
     ]
    }
   ],
   "source": [
    "print_cross_traffic_on_off('./datadumps/tcp34.dump')"
   ]
  },
  {
   "cell_type": "code",
   "execution_count": 122,
   "metadata": {
    "scrolled": true
   },
   "outputs": [
    {
     "name": "stdout",
     "output_type": "stream",
     "text": [
      "Average throughput: 130.02 Mbps\n",
      "Average available bandwidth: 223.48 Mbps\n",
      "Utilization: 58.18%\n"
     ]
    }
   ],
   "source": [
    "tcp34 = extract_time_and_throughput('./datadumps/tcp34.dump')\n",
    "print_throughput_stats(tcp34, 15, 34)"
   ]
  },
  {
   "cell_type": "code",
   "execution_count": 123,
   "metadata": {},
   "outputs": [
    {
     "data": {
      "text/plain": [
       "[<matplotlib.lines.Line2D at 0x10e7ad4e0>]"
      ]
     },
     "execution_count": 123,
     "metadata": {},
     "output_type": "execute_result"
    },
    {
     "data": {
      "image/png": "[encoded data removed]",
      "text/plain": [
       "<Figure size 432x288 with 1 Axes>"
      ]
     },
     "metadata": {},
     "output_type": "display_data"
    }
   ],
   "source": [
    "plt.plot(tcp34[:, 0], tcp34[:, 1])"
   ]
  },
  {
   "cell_type": "markdown",
   "metadata": {},
   "source": [
    "## TCP 51"
   ]
  },
  {
   "cell_type": "code",
   "execution_count": 124,
   "metadata": {},
   "outputs": [
    {
     "name": "stdout",
     "output_type": "stream",
     "text": [
      "Sending to 100.64.0.1:9090\n",
      " background traffic is: on\n",
      "on count: 1, off count: 0\n",
      "\n",
      "timestamp: 9866, average throughput: 15.5445 Mpbs\n",
      " background traffic is: off\n",
      "on count: 1, off count: 1\n",
      "\n",
      "timestamp: 19930, average throughput: 26.3244 Mpbs\n",
      " background traffic is: on\n",
      "on count: 2, off count: 1\n",
      "\n",
      "timestamp: 29877, average throughput: 47.3768 Mpbs\n",
      " background traffic is: off\n",
      "on count: 2, off count: 2\n",
      "\n",
      "timestamp: 39896, average throughput: 60.7218 Mpbs\n",
      " background traffic is: on\n",
      "on count: 3, off count: 2\n",
      "\n",
      "timestamp: 49926, average throughput: 84.3827 Mpbs\n",
      " background traffic is: off\n",
      "on count: 3, off count: 3\n",
      "\n",
      "timestamp: 59849, average throughput: 94.9374 Mpbs\n",
      " background traffic is: on\n",
      "on count: 4, off count: 3\n",
      "\n",
      "timestamp: 69940, average throughput: 116.33 Mpbs\n",
      " background traffic is: off\n",
      "on count: 4, off count: 4\n",
      "\n",
      "timestamp: 79883, average throughput: 129.836 Mpbs\n",
      " background traffic is: on\n",
      "on count: 5, off count: 4\n",
      "\n",
      "timestamp: 89915, average throughput: 150.893 Mpbs\n",
      " background traffic is: off\n",
      "on count: 5, off count: 5\n",
      "\n",
      "timestamp: 99921, average throughput: 89.3149 Mpbs\n",
      " background traffic is: on\n",
      "on count: 6, off count: 5\n",
      "\n",
      "timestamp: 109905, average throughput: 102.407 Mpbs\n",
      " background traffic is: off\n",
      "on count: 6, off count: 6\n",
      "\n",
      "timestamp: 119871, average throughput: 121.12 Mpbs\n",
      " background traffic is: on\n",
      "on count: 7, off count: 6\n",
      "\n",
      "timestamp: 129864, average throughput: 134.731 Mpbs\n",
      " background traffic is: off\n",
      "on count: 7, off count: 7\n",
      "\n",
      "timestamp: 139915, average throughput: 156.707 Mpbs\n",
      " background traffic is: on\n",
      "on count: 8, off count: 7\n",
      "\n",
      "timestamp: 149919, average throughput: 172.744 Mpbs\n",
      " background traffic is: off\n",
      "on count: 8, off count: 8\n",
      "\n",
      "timestamp: 159917, average throughput: 106.967 Mpbs\n",
      " background traffic is: on\n",
      "on count: 9, off count: 8\n",
      "\n",
      "timestamp: 169905, average throughput: 112.547 Mpbs\n",
      " background traffic is: off\n",
      "on count: 9, off count: 9\n",
      "\n",
      "timestamp: 179942, average throughput: 128.133 Mpbs\n",
      " background traffic is: on\n",
      "on count: 10, off count: 9\n",
      "\n",
      "timestamp: 189863, average throughput: 142.295 Mpbs\n",
      " background traffic is: off\n",
      "on count: 10, off count: 10\n",
      "\n",
      "timestamp: 199897, average throughput: 48.6879 Mpbs\n",
      " background traffic is: on\n",
      "on count: 11, off count: 10\n",
      "\n",
      "timestamp: 209931, average throughput: 69.7293 Mpbs\n",
      " background traffic is: off\n",
      "on count: 11, off count: 11\n",
      "\n",
      "timestamp: 219911, average throughput: 78.6118 Mpbs\n",
      " background traffic is: on\n",
      "on count: 12, off count: 11\n",
      "\n",
      "timestamp: 229865, average throughput: 30.9861 Mpbs\n",
      " background traffic is: off\n",
      "on count: 12, off count: 12\n",
      "\n",
      "timestamp: 239944, average throughput: 38.6918 Mpbs\n",
      " background traffic is: on\n",
      "on count: 13, off count: 12\n",
      "\n",
      "timestamp: 249943, average throughput: 57.5907 Mpbs\n",
      " background traffic is: off\n",
      "on count: 13, off count: 13\n",
      "\n"
     ]
    }
   ],
   "source": [
    "print_cross_traffic_on_off('./datadumps/tcp51.dump')"
   ]
  },
  {
   "cell_type": "code",
   "execution_count": 125,
   "metadata": {
    "scrolled": false
   },
   "outputs": [
    {
     "name": "stdout",
     "output_type": "stream",
     "text": [
      "Average throughput: 92.49 Mbps\n",
      "Average available bandwidth: 214.44 Mbps\n",
      "Utilization: 43.13%\n"
     ]
    }
   ],
   "source": [
    "tcp51 = extract_time_and_throughput('./datadumps/tcp51.dump')\n",
    "print_throughput_stats(tcp51, 13, 51)"
   ]
  },
  {
   "cell_type": "code",
   "execution_count": 53,
   "metadata": {},
   "outputs": [
    {
     "data": {
      "text/plain": [
       "[<matplotlib.lines.Line2D at 0x10cbff358>]"
      ]
     },
     "execution_count": 53,
     "metadata": {},
     "output_type": "execute_result"
    },
    {
     "data": {
      "image/png": "[encoded data removed]",
      "text/plain": [
       "<Figure size 432x288 with 1 Axes>"
      ]
     },
     "metadata": {},
     "output_type": "display_data"
    }
   ],
   "source": [
    "plt.plot(tcp51[:, 0], tcp51[:, 1])"
   ]
  },
  {
   "cell_type": "markdown",
   "metadata": {},
   "source": [
    "## TCP 68"
   ]
  },
  {
   "cell_type": "code",
   "execution_count": 126,
   "metadata": {},
   "outputs": [
    {
     "name": "stdout",
     "output_type": "stream",
     "text": [
      "Sending to 100.64.0.1:9090\n",
      " background traffic is: on\n",
      "on count: 1, off count: 0\n",
      "\n",
      "timestamp: 9881, average throughput: 16.0856 Mpbs\n",
      " background traffic is: off\n",
      "on count: 1, off count: 1\n",
      "\n",
      "timestamp: 19852, average throughput: 24.5707 Mpbs\n",
      " background traffic is: on\n",
      "on count: 2, off count: 1\n",
      "\n",
      "timestamp: 29882, average throughput: 44.4615 Mpbs\n",
      " background traffic is: off\n",
      "on count: 2, off count: 2\n",
      "\n",
      "timestamp: 39850, average throughput: 62.5578 Mpbs\n",
      " background traffic is: on\n",
      "on count: 3, off count: 2\n",
      "\n",
      "timestamp: 49900, average throughput: 81.0362 Mpbs\n",
      " background traffic is: off\n",
      "on count: 3, off count: 3\n",
      "\n",
      "timestamp: 59838, average throughput: 98.1474 Mpbs\n",
      " background traffic is: on\n",
      "on count: 4, off count: 3\n",
      "\n",
      "timestamp: 69911, average throughput: 111.668 Mpbs\n",
      " background traffic is: off\n",
      "on count: 4, off count: 4\n",
      "\n",
      "timestamp: 79847, average throughput: 137.019 Mpbs\n",
      " background traffic is: on\n",
      "on count: 5, off count: 4\n",
      "\n",
      "timestamp: 89870, average throughput: 145.789 Mpbs\n",
      " background traffic is: off\n",
      "on count: 5, off count: 5\n",
      "\n",
      "timestamp: 99922, average throughput: 169.633 Mpbs\n",
      " background traffic is: on\n",
      "on count: 6, off count: 5\n",
      "\n",
      "timestamp: 109880, average throughput: 45.9583 Mpbs\n",
      " background traffic is: off\n",
      "on count: 6, off count: 6\n",
      "\n",
      "timestamp: 119860, average throughput: 65.1745 Mpbs\n",
      " background traffic is: on\n",
      "on count: 7, off count: 6\n",
      "\n",
      "timestamp: 129859, average throughput: 88.7156 Mpbs\n",
      " background traffic is: off\n",
      "on count: 7, off count: 7\n",
      "\n",
      "timestamp: 139914, average throughput: 104.693 Mpbs\n",
      " background traffic is: on\n",
      "on count: 8, off count: 7\n",
      "\n",
      "timestamp: 149897, average throughput: 52.7121 Mpbs\n",
      " background traffic is: off\n",
      "on count: 8, off count: 8\n",
      "\n",
      "timestamp: 159918, average throughput: 76.938 Mpbs\n",
      " background traffic is: on\n",
      "on count: 9, off count: 8\n",
      "\n",
      "timestamp: 169875, average throughput: 48.6211 Mpbs\n",
      " background traffic is: off\n",
      "on count: 9, off count: 9\n",
      "\n",
      "timestamp: 179919, average throughput: 73.3886 Mpbs\n",
      " background traffic is: on\n",
      "on count: 10, off count: 9\n",
      "\n",
      "timestamp: 189873, average throughput: 41.7443 Mpbs\n",
      " background traffic is: off\n",
      "on count: 10, off count: 10\n",
      "\n",
      "timestamp: 199903, average throughput: 62.5239 Mpbs\n",
      " background traffic is: on\n",
      "on count: 11, off count: 10\n",
      "\n",
      "timestamp: 209854, average throughput: 81.7534 Mpbs\n",
      " background traffic is: off\n",
      "on count: 11, off count: 11\n",
      "\n",
      "timestamp: 219858, average throughput: 95.5893 Mpbs\n",
      " background traffic is: on\n",
      "on count: 12, off count: 11\n",
      "\n",
      "timestamp: 229927, average throughput: 113.938 Mpbs\n",
      " background traffic is: off\n",
      "on count: 12, off count: 12\n",
      "\n",
      "timestamp: 239868, average throughput: 128.339 Mpbs\n",
      " background traffic is: on\n",
      "on count: 13, off count: 12\n",
      "\n",
      "timestamp: 249890, average throughput: 141.078 Mpbs\n",
      " background traffic is: off\n",
      "on count: 13, off count: 13\n",
      "\n",
      "timestamp: 259830, average throughput: 155.994 Mpbs\n",
      " background traffic is: on\n",
      "on count: 14, off count: 13\n",
      "\n",
      "timestamp: 269881, average throughput: 94.2625 Mpbs\n",
      " background traffic is: off\n",
      "on count: 14, off count: 14\n",
      "\n",
      "timestamp: 279888, average throughput: 110.826 Mpbs\n",
      " background traffic is: on\n",
      "on count: 15, off count: 14\n",
      "\n",
      "timestamp: 289929, average throughput: 128.277 Mpbs\n",
      " background traffic is: off\n",
      "on count: 15, off count: 15\n",
      "\n",
      "timestamp: 299867, average throughput: 143.842 Mpbs\n",
      " background traffic is: on\n",
      "on count: 16, off count: 15\n",
      "\n",
      "timestamp: 309872, average throughput: 155.299 Mpbs\n",
      " background traffic is: off\n",
      "on count: 16, off count: 16\n",
      "\n",
      "timestamp: 319906, average throughput: 47.6356 Mpbs\n",
      " background traffic is: on\n",
      "on count: 17, off count: 16\n",
      "\n",
      "timestamp: 329858, average throughput: 65.0766 Mpbs\n",
      " background traffic is: off\n",
      "on count: 17, off count: 17\n",
      "\n",
      "timestamp: 339887, average throughput: 80.1533 Mpbs\n",
      " background traffic is: on\n",
      "on count: 18, off count: 17\n",
      "\n",
      "timestamp: 349887, average throughput: 101.34 Mpbs\n",
      " background traffic is: off\n",
      "on count: 18, off count: 18\n",
      "\n",
      "timestamp: 359860, average throughput: 118.328 Mpbs\n",
      " background traffic is: on\n",
      "on count: 19, off count: 18\n",
      "\n",
      "timestamp: 369913, average throughput: 85.3676 Mpbs\n",
      " background traffic is: off\n",
      "on count: 19, off count: 19\n",
      "\n",
      "timestamp: 379851, average throughput: 84.2501 Mpbs\n",
      " background traffic is: on\n",
      "on count: 20, off count: 19\n",
      "\n",
      "timestamp: 389906, average throughput: 61.4448 Mpbs\n",
      " background traffic is: off\n",
      "on count: 20, off count: 20\n",
      "\n",
      "timestamp: 399859, average throughput: 75.6695 Mpbs\n",
      " background traffic is: on\n",
      "on count: 21, off count: 20\n",
      "\n",
      "timestamp: 409891, average throughput: 93.636 Mpbs\n",
      " background traffic is: off\n",
      "on count: 21, off count: 21\n",
      "\n",
      "timestamp: 419850, average throughput: 103.857 Mpbs\n",
      " background traffic is: on\n",
      "on count: 22, off count: 21\n",
      "\n",
      "timestamp: 429892, average throughput: 62.8113 Mpbs\n",
      " background traffic is: off\n",
      "on count: 22, off count: 22\n",
      "\n",
      "timestamp: 439909, average throughput: 76.4891 Mpbs\n",
      " background traffic is: on\n",
      "on count: 23, off count: 22\n",
      "\n",
      "timestamp: 449917, average throughput: 100.123 Mpbs\n",
      " background traffic is: off\n",
      "on count: 23, off count: 23\n",
      "\n",
      "timestamp: 459896, average throughput: 114.147 Mpbs\n",
      " background traffic is: on\n",
      "on count: 24, off count: 23\n",
      "\n",
      "timestamp: 469915, average throughput: 129.449 Mpbs\n",
      " background traffic is: off\n",
      "on count: 24, off count: 24\n",
      "\n",
      "timestamp: 479849, average throughput: 143.193 Mpbs\n",
      " background traffic is: on\n",
      "on count: 25, off count: 24\n",
      "\n",
      "timestamp: 489857, average throughput: 159.614 Mpbs\n",
      " background traffic is: off\n",
      "on count: 25, off count: 25\n",
      "\n",
      "timestamp: 499871, average throughput: 175.787 Mpbs\n",
      " background traffic is: on\n",
      "on count: 26, off count: 25\n",
      "\n",
      "timestamp: 509877, average throughput: 164.695 Mpbs\n",
      " background traffic is: off\n",
      "on count: 26, off count: 26\n",
      "\n",
      "timestamp: 519892, average throughput: 61.8832 Mpbs\n",
      " background traffic is: on\n",
      "on count: 27, off count: 26\n",
      "\n",
      "timestamp: 529926, average throughput: 83.1389 Mpbs\n",
      " background traffic is: off\n",
      "on count: 27, off count: 27\n",
      "\n",
      "timestamp: 539925, average throughput: 97.2999 Mpbs\n",
      " background traffic is: on\n",
      "on count: 28, off count: 27\n",
      "\n",
      "timestamp: 549846, average throughput: 53.1292 Mpbs\n",
      " background traffic is: off\n",
      "on count: 28, off count: 28\n",
      "\n"
     ]
    }
   ],
   "source": [
    "print_cross_traffic_on_off('./datadumps/tcp68.dump')"
   ]
  },
  {
   "cell_type": "code",
   "execution_count": 127,
   "metadata": {
    "scrolled": false
   },
   "outputs": [
    {
     "name": "stdout",
     "output_type": "stream",
     "text": [
      "Average throughput: 95.19 Mbps\n",
      "Average available bandwidth: 205.90 Mbps\n",
      "Utilization: 46.23%\n"
     ]
    }
   ],
   "source": [
    "tcp68 = extract_time_and_throughput('./datadumps/tcp68.dump')\n",
    "print_throughput_stats(tcp68, 28, 68)"
   ]
  },
  {
   "cell_type": "code",
   "execution_count": 55,
   "metadata": {},
   "outputs": [
    {
     "data": {
      "text/plain": [
       "[<matplotlib.lines.Line2D at 0x10cbabc18>]"
      ]
     },
     "execution_count": 55,
     "metadata": {},
     "output_type": "execute_result"
    },
    {
     "data": {
      "image/png": "[encoded data removed]",
      "text/plain": [
       "<Figure size 432x288 with 1 Axes>"
      ]
     },
     "metadata": {},
     "output_type": "display_data"
    }
   ],
   "source": [
    "plt.plot(tcp68[:, 0], tcp68[:, 1])"
   ]
  },
  {
   "cell_type": "markdown",
   "metadata": {},
   "source": [
    "## CTCP Loss 6"
   ]
  },
  {
   "cell_type": "code",
   "execution_count": 68,
   "metadata": {
    "scrolled": true
   },
   "outputs": [
    {
     "name": "stdout",
     "output_type": "stream",
     "text": [
      "Average throughput: 137.814 Mbps\n",
      "Average available bandwidth: 240.000 Mbps\n",
      "Utilization: 57.42%\n"
     ]
    }
   ],
   "source": [
    "ctcplr6 = extract_time_and_throughput('./datadumps/ctcplr6final.dump')\n",
    "print_throughput_stats(ctcplr6, 0, 0)"
   ]
  },
  {
   "cell_type": "code",
   "execution_count": 69,
   "metadata": {
    "scrolled": true
   },
   "outputs": [
    {
     "data": {
      "text/plain": [
       "[<matplotlib.lines.Line2D at 0x10d0579b0>]"
      ]
     },
     "execution_count": 69,
     "metadata": {},
     "output_type": "execute_result"
    },
    {
     "data": {
      "image/png": "[encoded data removed]",
      "text/plain": [
       "<Figure size 432x288 with 1 Axes>"
      ]
     },
     "metadata": {},
     "output_type": "display_data"
    }
   ],
   "source": [
    "plt.plot(ctcplr6[:, 0], ctcplr6[:, 1])"
   ]
  },
  {
   "cell_type": "markdown",
   "metadata": {},
   "source": [
    "# CTCP Loss 5"
   ]
  },
  {
   "cell_type": "code",
   "execution_count": 70,
   "metadata": {
    "scrolled": true
   },
   "outputs": [
    {
     "name": "stdout",
     "output_type": "stream",
     "text": [
      "Average throughput: 93.527 Mbps\n",
      "Average available bandwidth: 240.000 Mbps\n",
      "Utilization: 38.97%\n"
     ]
    }
   ],
   "source": [
    "ctcplr5 = extract_time_and_throughput('./datadumps/ctcplr5final.dump')\n",
    "print_throughput_stats(ctcplr5, 0, 0)"
   ]
  },
  {
   "cell_type": "code",
   "execution_count": 72,
   "metadata": {
    "scrolled": false
   },
   "outputs": [
    {
     "data": {
      "text/plain": [
       "[<matplotlib.lines.Line2D at 0x10d194a58>]"
      ]
     },
     "execution_count": 72,
     "metadata": {},
     "output_type": "execute_result"
    },
    {
     "data": {
      "image/png": "[encoded data removed]",
      "text/plain": [
       "<Figure size 432x288 with 1 Axes>"
      ]
     },
     "metadata": {},
     "output_type": "display_data"
    }
   ],
   "source": [
    "plt.plot(ctcplr5[:, 0], ctcplr5[:, 1])"
   ]
  },
  {
   "cell_type": "markdown",
   "metadata": {},
   "source": [
    "# CTCP Loss 4"
   ]
  },
  {
   "cell_type": "code",
   "execution_count": 73,
   "metadata": {
    "scrolled": true
   },
   "outputs": [
    {
     "name": "stdout",
     "output_type": "stream",
     "text": [
      "Average throughput: 91.578 Mbps\n",
      "Average available bandwidth: 240.000 Mbps\n",
      "Utilization: 38.16%\n"
     ]
    }
   ],
   "source": [
    "ctcplr4 = extract_time_and_throughput('./datadumps/ctcplr4final.dump')\n",
    "print_throughput_stats(ctcplr4, 0, 0)"
   ]
  },
  {
   "cell_type": "code",
   "execution_count": 75,
   "metadata": {
    "scrolled": false
   },
   "outputs": [
    {
     "data": {
      "text/plain": [
       "[<matplotlib.lines.Line2D at 0x10d4c2f28>]"
      ]
     },
     "execution_count": 75,
     "metadata": {},
     "output_type": "execute_result"
    },
    {
     "data": {
      "image/png": "[encoded data removed]",
      "text/plain": [
       "<Figure size 432x288 with 1 Axes>"
      ]
     },
     "metadata": {},
     "output_type": "display_data"
    }
   ],
   "source": [
    "plt.plot(ctcplr4[:, 0], ctcplr4[:, 1])"
   ]
  },
  {
   "cell_type": "markdown",
   "metadata": {},
   "source": [
    "# CTCP Loss 3"
   ]
  },
  {
   "cell_type": "code",
   "execution_count": 76,
   "metadata": {
    "scrolled": true
   },
   "outputs": [
    {
     "name": "stdout",
     "output_type": "stream",
     "text": [
      "Average throughput: 82.640 Mbps\n",
      "Average available bandwidth: 240.000 Mbps\n",
      "Utilization: 34.43%\n"
     ]
    }
   ],
   "source": [
    "ctcplr3 = extract_time_and_throughput('./datadumps/ctcplr3final.dump')\n",
    "print_throughput_stats(ctcplr3, 0, 0)"
   ]
  },
  {
   "cell_type": "code",
   "execution_count": 77,
   "metadata": {
    "scrolled": true
   },
   "outputs": [
    {
     "data": {
      "text/plain": [
       "[<matplotlib.lines.Line2D at 0x10d5028d0>]"
      ]
     },
     "execution_count": 77,
     "metadata": {},
     "output_type": "execute_result"
    },
    {
     "data": {
      "image/png": "[encoded data removed]",
      "text/plain": [
       "<Figure size 432x288 with 1 Axes>"
      ]
     },
     "metadata": {},
     "output_type": "display_data"
    }
   ],
   "source": [
    "plt.plot(ctcplr3[:, 0], ctcplr3[:, 1])"
   ]
  },
  {
   "cell_type": "markdown",
   "metadata": {},
   "source": [
    "# CTCP Loss 2"
   ]
  },
  {
   "cell_type": "code",
   "execution_count": 78,
   "metadata": {
    "scrolled": true
   },
   "outputs": [
    {
     "name": "stdout",
     "output_type": "stream",
     "text": [
      "Average throughput: 33.764 Mbps\n",
      "Average available bandwidth: 240.000 Mbps\n",
      "Utilization: 14.07%\n"
     ]
    }
   ],
   "source": [
    "ctcplr2 = extract_time_and_throughput('./datadumps/ctcplr2final.dump')\n",
    "print_throughput_stats(ctcplr2, 0, 0)"
   ]
  },
  {
   "cell_type": "code",
   "execution_count": 79,
   "metadata": {
    "scrolled": false
   },
   "outputs": [
    {
     "data": {
      "text/plain": [
       "[<matplotlib.lines.Line2D at 0x10d815e10>]"
      ]
     },
     "execution_count": 79,
     "metadata": {},
     "output_type": "execute_result"
    },
    {
     "data": {
      "image/png": "[encoded data removed]",
      "text/plain": [
       "<Figure size 432x288 with 1 Axes>"
      ]
     },
     "metadata": {},
     "output_type": "display_data"
    }
   ],
   "source": [
    "plt.plot(ctcplr2[:, 0], ctcplr2[:, 1])"
   ]
  },
  {
   "cell_type": "markdown",
   "metadata": {},
   "source": [
    "## TCP Loss 6"
   ]
  },
  {
   "cell_type": "code",
   "execution_count": 80,
   "metadata": {
    "scrolled": true
   },
   "outputs": [
    {
     "ename": "FileNotFoundError",
     "evalue": "[Errno 2] No such file or directory: './datadumps/tcplr6.dump'",
     "output_type": "error",
     "traceback": [
      "\u001b[0;31m---------------------------------------------------------------------------\u001b[0m",
      "\u001b[0;31mFileNotFoundError\u001b[0m                         Traceback (most recent call last)",
      "\u001b[0;32m<ipython-input-80-8ce13bd06c60>\u001b[0m in \u001b[0;36m<module>\u001b[0;34m()\u001b[0m\n\u001b[0;32m----> 1\u001b[0;31m \u001b[0mtcplr6\u001b[0m \u001b[0;34m=\u001b[0m \u001b[0mextract_time_and_throughput\u001b[0m\u001b[0;34m(\u001b[0m\u001b[0;34m'./datadumps/tcplr6.dump'\u001b[0m\u001b[0;34m)\u001b[0m\u001b[0;34m\u001b[0m\u001b[0m\n\u001b[0m\u001b[1;32m      2\u001b[0m \u001b[0mprint_throughput_stats\u001b[0m\u001b[0;34m(\u001b[0m\u001b[0mtcplr6\u001b[0m\u001b[0;34m,\u001b[0m \u001b[0;36m0\u001b[0m\u001b[0;34m,\u001b[0m \u001b[0;36m0\u001b[0m\u001b[0;34m)\u001b[0m\u001b[0;34m\u001b[0m\u001b[0m\n",
      "\u001b[0;32m<ipython-input-13-ffc3f3bc7f78>\u001b[0m in \u001b[0;36mextract_time_and_throughput\u001b[0;34m(filename)\u001b[0m\n\u001b[1;32m      1\u001b[0m \u001b[0;32mdef\u001b[0m \u001b[0mextract_time_and_throughput\u001b[0m\u001b[0;34m(\u001b[0m\u001b[0mfilename\u001b[0m\u001b[0;34m)\u001b[0m\u001b[0;34m:\u001b[0m\u001b[0;34m\u001b[0m\u001b[0m\n\u001b[1;32m      2\u001b[0m     \u001b[0mtime\u001b[0m \u001b[0;34m=\u001b[0m \u001b[0;34m[\u001b[0m\u001b[0;34m]\u001b[0m\u001b[0;34m;\u001b[0m \u001b[0mthroughput\u001b[0m \u001b[0;34m=\u001b[0m \u001b[0;34m[\u001b[0m\u001b[0;34m]\u001b[0m\u001b[0;34m\u001b[0m\u001b[0m\n\u001b[0;32m----> 3\u001b[0;31m     \u001b[0;32mwith\u001b[0m \u001b[0mopen\u001b[0m\u001b[0;34m(\u001b[0m\u001b[0mfilename\u001b[0m\u001b[0;34m)\u001b[0m \u001b[0;32mas\u001b[0m \u001b[0mf\u001b[0m\u001b[0;34m:\u001b[0m\u001b[0;34m\u001b[0m\u001b[0m\n\u001b[0m\u001b[1;32m      4\u001b[0m         \u001b[0;32mfor\u001b[0m \u001b[0mline\u001b[0m \u001b[0;32min\u001b[0m \u001b[0mf\u001b[0m\u001b[0;34m.\u001b[0m\u001b[0mreadlines\u001b[0m\u001b[0;34m(\u001b[0m\u001b[0;34m)\u001b[0m\u001b[0;34m:\u001b[0m\u001b[0;34m\u001b[0m\u001b[0m\n\u001b[1;32m      5\u001b[0m             \u001b[0mm\u001b[0m \u001b[0;34m=\u001b[0m \u001b[0mre\u001b[0m\u001b[0;34m.\u001b[0m\u001b[0msearch\u001b[0m\u001b[0;34m(\u001b[0m\u001b[0;34mr'timestamp: (\\d+), average throughput: (\\d+\\.\\d+) Mpbs'\u001b[0m\u001b[0;34m,\u001b[0m \u001b[0mline\u001b[0m\u001b[0;34m)\u001b[0m\u001b[0;34m\u001b[0m\u001b[0m\n",
      "\u001b[0;31mFileNotFoundError\u001b[0m: [Errno 2] No such file or directory: './datadumps/tcplr6.dump'"
     ]
    }
   ],
   "source": [
    "tcplr6 = extract_time_and_throughput('./datadumps/tcplr6.dump')\n",
    "print_throughput_stats(tcplr6, 0, 0)"
   ]
  },
  {
   "cell_type": "markdown",
   "metadata": {},
   "source": [
    "# TCP Loss 5"
   ]
  },
  {
   "cell_type": "code",
   "execution_count": 82,
   "metadata": {
    "scrolled": true
   },
   "outputs": [
    {
     "name": "stdout",
     "output_type": "stream",
     "text": [
      "Average throughput: 43.627 Mbps\n",
      "Average available bandwidth: 240.000 Mbps\n",
      "Utilization: 18.18%\n"
     ]
    }
   ],
   "source": [
    "tcplr5 = extract_time_and_throughput('./datadumps/tcplr5.dump')\n",
    "print_throughput_stats(tcplr5, 0, 0)"
   ]
  },
  {
   "cell_type": "code",
   "execution_count": 83,
   "metadata": {
    "scrolled": false
   },
   "outputs": [
    {
     "data": {
      "text/plain": [
       "[<matplotlib.lines.Line2D at 0x10dae2e80>]"
      ]
     },
     "execution_count": 83,
     "metadata": {},
     "output_type": "execute_result"
    },
    {
     "data": {
      "image/png": "[encoded data removed]",
      "text/plain": [
       "<Figure size 432x288 with 1 Axes>"
      ]
     },
     "metadata": {},
     "output_type": "display_data"
    }
   ],
   "source": [
    "plt.plot(tcplr5[:, 0], tcplr5[:, 1])"
   ]
  },
  {
   "cell_type": "markdown",
   "metadata": {},
   "source": [
    "# TCP Loss 4"
   ]
  },
  {
   "cell_type": "code",
   "execution_count": 84,
   "metadata": {
    "scrolled": true
   },
   "outputs": [
    {
     "name": "stdout",
     "output_type": "stream",
     "text": [
      "Average throughput: 18.489 Mbps\n",
      "Average available bandwidth: 240.000 Mbps\n",
      "Utilization: 7.70%\n"
     ]
    }
   ],
   "source": [
    "tcplr4 = extract_time_and_throughput('./datadumps/tcplr4.dump')\n",
    "print_throughput_stats(tcplr4, 0, 0)"
   ]
  },
  {
   "cell_type": "code",
   "execution_count": 85,
   "metadata": {
    "scrolled": false
   },
   "outputs": [
    {
     "data": {
      "text/plain": [
       "[<matplotlib.lines.Line2D at 0x10db41240>]"
      ]
     },
     "execution_count": 85,
     "metadata": {},
     "output_type": "execute_result"
    },
    {
     "data": {
      "image/png": "[encoded data removed]",
      "text/plain": [
       "<Figure size 432x288 with 1 Axes>"
      ]
     },
     "metadata": {},
     "output_type": "display_data"
    }
   ],
   "source": [
    "plt.plot(tcplr4[:, 0], tcplr4[:, 1])"
   ]
  },
  {
   "cell_type": "markdown",
   "metadata": {},
   "source": [
    "# TCP Loss 3"
   ]
  },
  {
   "cell_type": "code",
   "execution_count": 86,
   "metadata": {
    "scrolled": true
   },
   "outputs": [
    {
     "name": "stdout",
     "output_type": "stream",
     "text": [
      "Average throughput: 5.606 Mbps\n",
      "Average available bandwidth: 240.000 Mbps\n",
      "Utilization: 2.34%\n"
     ]
    }
   ],
   "source": [
    "tcplr3 = extract_time_and_throughput('./datadumps/tcplr3.dump')\n",
    "print_throughput_stats(tcplr3, 0, 0)"
   ]
  },
  {
   "cell_type": "code",
   "execution_count": 87,
   "metadata": {
    "scrolled": true
   },
   "outputs": [
    {
     "data": {
      "text/plain": [
       "[<matplotlib.lines.Line2D at 0x10dc69588>]"
      ]
     },
     "execution_count": 87,
     "metadata": {},
     "output_type": "execute_result"
    },
    {
     "data": {
      "image/png": "[encoded data removed]",
      "text/plain": [
       "<Figure size 432x288 with 1 Axes>"
      ]
     },
     "metadata": {},
     "output_type": "display_data"
    }
   ],
   "source": [
    "plt.plot(tcplr3[:, 0], tcplr3[:, 1])"
   ]
  },
  {
   "cell_type": "markdown",
   "metadata": {},
   "source": [
    "# TCP Loss 2"
   ]
  },
  {
   "cell_type": "code",
   "execution_count": 91,
   "metadata": {
    "scrolled": true
   },
   "outputs": [
    {
     "name": "stdout",
     "output_type": "stream",
     "text": [
      "Average throughput: 14.906 Mbps\n",
      "Average available bandwidth: 240.000 Mbps\n",
      "Utilization: 6.21%\n"
     ]
    }
   ],
   "source": [
    "tcplr2 = extract_time_and_throughput('./datadumps/tcplr2.dump')\n",
    "print_throughput_stats(tcplr2, 0, 0)"
   ]
  },
  {
   "cell_type": "code",
   "execution_count": 92,
   "metadata": {
    "scrolled": false
   },
   "outputs": [
    {
     "data": {
      "text/plain": [
       "[<matplotlib.lines.Line2D at 0x10deffe10>]"
      ]
     },
     "execution_count": 92,
     "metadata": {},
     "output_type": "execute_result"
    },
    {
     "data": {
      "image/png": "[encoded data removed]",
      "text/plain": [
       "<Figure size 432x288 with 1 Axes>"
      ]
     },
     "metadata": {},
     "output_type": "display_data"
    }
   ],
   "source": [
    "plt.plot(tcplr2[:, 0], tcplr2[:, 1])"
   ]
  },
  {
   "cell_type": "code",
   "execution_count": 102,
   "metadata": {},
   "outputs": [
    {
     "data": {
      "text/plain": [
       "<matplotlib.legend.Legend at 0x10e4f7c18>"
      ]
     },
     "execution_count": 102,
     "metadata": {},
     "output_type": "execute_result"
    },
    {
     "data": {
      "image/png": "[encoded data removed]",
      "text/plain": [
       "<Figure size 360x288 with 1 Axes>"
      ]
     },
     "metadata": {},
     "output_type": "display_data"
    }
   ],
   "source": [
    "ctcp_tput = np.array([33.764, 82.640, 91.578, 93.527, 137.814])\n",
    "ctcp_lr = np.array([2, 3, 4, 5, 6])\n",
    "tcp_tput = np.array([14.91, 5.06, 18.489, 43.627])\n",
    "tcp_lr = np.array([2, 3, 4, 5])\n",
    "fig, ax = plt.subplots(figsize=(5,4))\n",
    "\n",
    "ax.plot(ctcp_lr, ctcp_tput / 240, label='CTCP')\n",
    "ax.plot(tcp_lr, tcp_tput / 240, label='TCP')\n",
    "ax.set_ylabel('Link Utilization')\n",
    "ax.set_xlabel('Loss Rate')\n",
    "ax.set_xticks(ctcp_lr)\n",
    "ax.set_xticklabels(['1e-{}'.format(lr) for lr in ctcp_lr])\n",
    "ax.legend()"
   ]
  },
  {
   "cell_type": "code",
   "execution_count": null,
   "metadata": {},
   "outputs": [],
   "source": []
  }
 ],
 "metadata": {
  "kernelspec": {
   "display_name": "Python 3",
   "language": "python",
   "name": "python3"
  },
  "language_info": {
   "codemirror_mode": {
    "name": "ipython",
    "version": 3
   },
   "file_extension": ".py",
   "mimetype": "text/x-python",
   "name": "python",
   "nbconvert_exporter": "python",
   "pygments_lexer": "ipython3",
   "version": "3.6.3"
  }
 },
 "nbformat": 4,
 "nbformat_minor": 2
}
